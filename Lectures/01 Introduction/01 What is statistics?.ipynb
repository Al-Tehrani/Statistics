{
 "cells": [
  {
   "cell_type": "markdown",
   "metadata": {
    "vscode": {
     "languageId": "plaintext"
    }
   },
   "source": [
    "<img src=\"./images/banner.png\" width=\"800\">"
   ]
  },
  {
   "cell_type": "markdown",
   "metadata": {
    "vscode": {
     "languageId": "plaintext"
    }
   },
   "source": [
    "# What is Statistics?"
   ]
  },
  {
   "cell_type": "markdown",
   "metadata": {
    "vscode": {
     "languageId": "plaintext"
    }
   },
   "source": [
    "Statistics is a branch of mathematics that deals with the collection, analysis, interpretation, and presentation of data. It involves methods for gathering, organizing, and drawing conclusions from data to help us make informed decisions in the face of uncertainty.\n"
   ]
  },
  {
   "cell_type": "markdown",
   "metadata": {},
   "source": [
    "Statistics plays a crucial role in numerous fields, including:\n",
    "\n",
    "1. **Business and Economics**: Companies use statistics to analyze market trends, make sales forecasts, and optimize their operations for maximum profitability.\n",
    "\n",
    "2. **Medicine and Public Health**: Medical researchers rely on statistical methods to test the effectiveness of new treatments, analyze the spread of diseases, and identify risk factors for various health conditions.\n",
    "\n",
    "3. **Social Sciences**: Psychologists, sociologists, and political scientists use statistics to study human behavior, analyze survey data, and test hypotheses about social phenomena.\n",
    "\n",
    "4. **Natural Sciences**: Biologists, chemists, and physicists use statistics to analyze experimental data, test scientific theories, and make predictions about natural processes.\n",
    "\n",
    "5. **Engineering**: Engineers use statistics to assess the reliability of systems, control the quality of manufacturing processes, and optimize the design of products.\n"
   ]
  },
  {
   "cell_type": "markdown",
   "metadata": {},
   "source": [
    "Some real-world applications of statistics include:\n",
    "\n",
    "1. **Quality Control**: Manufacturing companies use statistical methods to monitor the quality of their products and identify sources of defects.\n",
    "\n",
    "2. **Political Polling**: Statisticians design and analyze opinion polls to gauge public sentiment on various issues and predict election outcomes.\n",
    "\n",
    "3. **Sports Analytics**: Sports teams use statistics to evaluate player performance, develop game strategies, and make data-driven decisions for team management.\n",
    "\n",
    "4. **Insurance**: Insurance companies use statistical models to assess risk, determine premiums, and manage claims.\n",
    "\n",
    "5. **Weather Forecasting**: Meteorologists use statistical methods to analyze historical weather data and make predictions about future weather patterns.\n"
   ]
  },
  {
   "cell_type": "markdown",
   "metadata": {},
   "source": [
    "As you can see, statistics is a versatile and essential tool in many aspects of our lives. By understanding statistical concepts and methods, we can make better-informed decisions and solve complex problems in a wide range of fields."
   ]
  },
  {
   "cell_type": "markdown",
   "metadata": {
    "vscode": {
     "languageId": "plaintext"
    }
   },
   "source": [
    "Algorithms, artificial intelligence, machine learning, deep learning, data science, math, visualization, and statistics are all interconnected fields that play crucial roles in the realm of data analysis and decision-making. At the core, algorithms provide the foundation for processing and analyzing data efficiently. Artificial intelligence encompasses techniques that enable machines to exhibit intelligent behavior, with machine learning being a subset of AI that focuses on algorithms that improve automatically through experience. Deep learning, in turn, is a subfield of machine learning that utilizes neural networks with multiple layers to learn hierarchical representations of data. Data science is an interdisciplinary field that combines various techniques, including machine learning, to extract insights and knowledge from data. Math and statistics provide the underlying theoretical frameworks and tools for quantifying uncertainty, making inferences, and building predictive models. Visualization complements these fields by enabling the effective communication and interpretation of data and results. The following chart illustrates the relationships and overlaps between these domains:"
   ]
  },
  {
   "cell_type": "markdown",
   "metadata": {},
   "source": [
    "<img src=\"./images/data-science-ai-ml-dl.png\" width=\"800\">"
   ]
  },
  {
   "cell_type": "markdown",
   "metadata": {
    "vscode": {
     "languageId": "plaintext"
    }
   },
   "source": [
    "As shown in the figure, these fields are closely intertwined, with each one building upon and complementing the others. Understanding the connections and leveraging the synergies between these disciplines is crucial for solving complex problems and making data-driven decisions in various domains, ranging from business and healthcare to science and engineering."
   ]
  },
  {
   "cell_type": "markdown",
   "metadata": {},
   "source": [
    "**Table of contents**<a id='toc0_'></a>    \n",
    "- [Branches of Statistics](#toc1_)    \n",
    "  - [Descriptive Statistics](#toc1_1_)    \n",
    "  - [Inferential Statistics](#toc1_2_)    \n",
    "- [Descriptive Statistics](#toc2_)    \n",
    "  - [Organizing and Summarizing Data](#toc2_1_)    \n",
    "  - [Measures of Central Tendency](#toc2_2_)    \n",
    "  - [Measures of Dispersion](#toc2_3_)    \n",
    "  - [Graphical Representations](#toc2_4_)    \n",
    "- [Inferential Statistics](#toc3_)    \n",
    "  - [Sample vs. Population](#toc3_1_)    \n",
    "  - [Survey vs. Experiment](#toc3_2_)    \n",
    "  - [Making Predictions and Generalizations About Populations Based on Sample Data](#toc3_3_)    \n",
    "  - [Hypothesis Testing](#toc3_4_)    \n",
    "  - [Confidence Intervals](#toc3_5_)    \n",
    "  - [Regression Analysis](#toc3_6_)    \n",
    "- [Importance of Statistics in Decision Making](#toc4_)    \n",
    "\n",
    "<!-- vscode-jupyter-toc-config\n",
    "\tnumbering=false\n",
    "\tanchor=true\n",
    "\tflat=false\n",
    "\tminLevel=2\n",
    "\tmaxLevel=6\n",
    "\t/vscode-jupyter-toc-config -->\n",
    "<!-- THIS CELL WILL BE REPLACED ON TOC UPDATE. DO NOT WRITE YOUR TEXT IN THIS CELL -->"
   ]
  },
  {
   "cell_type": "markdown",
   "metadata": {},
   "source": [
    "## <a id='toc1_'></a>[Branches of Statistics](#toc0_)"
   ]
  },
  {
   "cell_type": "markdown",
   "metadata": {},
   "source": [
    "Statistics can be broadly divided into two main branches: descriptive statistics and inferential statistics. Each branch serves a specific purpose and employs different methods to analyze and interpret data.\n"
   ]
  },
  {
   "cell_type": "markdown",
   "metadata": {
    "vscode": {
     "languageId": "plaintext"
    }
   },
   "source": [
    "**Descriptive statistics** focuses on summarizing and describing the main features of a dataset, while inferential statistics involves making inferences and drawing conclusions about a population based on a sample of data."
   ]
  },
  {
   "cell_type": "markdown",
   "metadata": {},
   "source": [
    "When we have a **population**, which refers to the entire group of individuals or objects of interest, collecting data from every member of the population is often impractical or impossible. In such cases, we rely on sampling, which involves selecting a subset of the population that is representative of the whole. The data collected from this sample is then used to calculate descriptive statistics, such as measures of central tendency (mean, median, mode) and measures of dispersion (variance, standard deviation). These descriptive statistics provide a concise summary of the sample data and help us understand its main characteristics.\n"
   ]
  },
  {
   "cell_type": "markdown",
   "metadata": {},
   "source": [
    "However, the ultimate goal is often to **make inferences about the larger population based on the sample data**. This is where inferential statistics comes into play. By using probability theory and statistical models, inferential statistics allows us to estimate population parameters, test hypotheses, and make predictions with a certain level of confidence. For example, we can use inferential statistics to determine if there is a significant difference between two groups, assess the relationship between variables, or predict future outcomes based on historical data."
   ]
  },
  {
   "cell_type": "markdown",
   "metadata": {},
   "source": [
    "<img src=\"./images/sample-population.png\" width=\"800\">"
   ]
  },
  {
   "cell_type": "markdown",
   "metadata": {},
   "source": [
    "### <a id='toc1_1_'></a>[Descriptive Statistics](#toc0_)\n"
   ]
  },
  {
   "cell_type": "markdown",
   "metadata": {},
   "source": [
    "Descriptive statistics involves methods for organizing, summarizing, and presenting data in a meaningful way. The purpose of descriptive statistics is to provide a clear and concise summary of the main features of a dataset, such as its central tendency, variability, and distribution.\n"
   ]
  },
  {
   "cell_type": "markdown",
   "metadata": {},
   "source": [
    "Some common examples of descriptive statistics include:\n",
    "\n",
    "1. **Measures of Central Tendency**: These measures describe the typical or central value in a dataset, such as the mean (average), median (middle value), and mode (most frequent value).\n",
    "\n",
    "2. **Measures of Dispersion**: These measures describe the spread or variability of data, such as the range (difference between the maximum and minimum values), variance, and standard deviation.\n",
    "\n",
    "3. **Frequency Distributions**: These tables or graphs show how often each value or group of values occurs in a dataset, such as histograms or bar charts.\n",
    "\n",
    "4. **Percentiles and Quartiles**: These measures divide a dataset into equal parts, such as the median (50th percentile) or the first and third quartiles (25th and 75th percentiles).\n"
   ]
  },
  {
   "cell_type": "markdown",
   "metadata": {},
   "source": [
    "### <a id='toc1_2_'></a>[Inferential Statistics](#toc0_)\n"
   ]
  },
  {
   "cell_type": "markdown",
   "metadata": {},
   "source": [
    "Inferential statistics involves methods for making predictions, generalizations, or decisions about a population based on a sample of data. The purpose of inferential statistics is to use sample data to draw conclusions about a larger population with a certain level of confidence.\n"
   ]
  },
  {
   "cell_type": "markdown",
   "metadata": {},
   "source": [
    "Some common examples of inferential statistics include:\n",
    "\n",
    "1. **Hypothesis Testing**: This is a method for determining whether a claim or hypothesis about a population is likely to be true based on sample evidence. Examples include t-tests, ANOVA, and chi-square tests.\n",
    "\n",
    "2. **Confidence Intervals**: These are ranges of values that are likely to contain the true population parameter with a certain level of confidence, such as a 95% confidence interval for the mean.\n",
    "\n",
    "3. **Regression Analysis**: This is a method for modeling the relationship between a dependent variable and one or more independent variables, such as linear regression or logistic regression.\n",
    "\n",
    "4. **Sampling**: This involves techniques for selecting a representative subset of a population to study, such as simple random sampling or stratified sampling.\n"
   ]
  },
  {
   "cell_type": "markdown",
   "metadata": {},
   "source": [
    "In summary, descriptive statistics helps us to organize and summarize data, while inferential statistics allows us to make predictions and draw conclusions about populations based on sample data. Both branches of statistics are essential for making data-driven decisions in various fields."
   ]
  },
  {
   "cell_type": "markdown",
   "metadata": {},
   "source": [
    "## <a id='toc2_'></a>[Descriptive Statistics](#toc0_)"
   ]
  },
  {
   "cell_type": "markdown",
   "metadata": {},
   "source": [
    "Descriptive statistics is a branch of statistics that focuses on organizing, summarizing, and presenting data in a meaningful way. It provides tools to describe the main features of a dataset, such as its central tendency, variability, and distribution.\n"
   ]
  },
  {
   "cell_type": "markdown",
   "metadata": {},
   "source": [
    "<img src=\"./images/descriptive-statistics.png\" width=\"800\">"
   ]
  },
  {
   "cell_type": "markdown",
   "metadata": {},
   "source": [
    "### <a id='toc2_1_'></a>[Organizing and Summarizing Data](#toc0_)\n"
   ]
  },
  {
   "cell_type": "markdown",
   "metadata": {},
   "source": [
    "The first step in descriptive statistics is to organize and summarize the data. This can be done using various methods, such as:\n",
    "\n",
    "1. **Frequency Distributions**: These tables or graphs show how often each value or group of values occurs in a dataset. They can be used to identify the most common values or categories in a dataset.\n",
    "\n",
    "2. **Contingency Tables**: These tables display the relationship between two or more categorical variables, such as gender and political affiliation. They can be used to examine the association between variables.\n",
    "\n",
    "3. **Cross-Tabulation**: This is a method for summarizing data from two or more variables in a single table, allowing for the examination of relationships between the variables.\n"
   ]
  },
  {
   "cell_type": "markdown",
   "metadata": {},
   "source": [
    "### <a id='toc2_2_'></a>[Measures of Central Tendency](#toc0_)\n"
   ]
  },
  {
   "cell_type": "markdown",
   "metadata": {},
   "source": [
    "Measures of central tendency describe the typical or central value in a dataset. The three main measures of central tendency are:\n",
    "\n",
    "1. **Mean**: The arithmetic average of a set of values, calculated by summing all the values and dividing by the number of values.\n",
    "\n",
    "2. **Median**: The middle value in a dataset when the values are arranged in order from least to greatest. If there is an even number of values, the median is the average of the two middle values.\n",
    "\n",
    "3. **Mode**: The most frequently occurring value or values in a dataset.\n"
   ]
  },
  {
   "cell_type": "markdown",
   "metadata": {},
   "source": [
    "### <a id='toc2_3_'></a>[Measures of Variability](#toc0_)\n"
   ]
  },
  {
   "cell_type": "markdown",
   "metadata": {},
   "source": [
    "Measures of dispersion describe the spread or variability of data. Some common measures of dispersion include:\n",
    "\n",
    "1. **Range**: The difference between the maximum and minimum values in a dataset.\n",
    "\n",
    "2. **Variance**: The average of the squared deviations from the mean, measuring how far the data points are spread out from the mean.\n",
    "\n",
    "3. **Standard Deviation**: The square root of the variance, providing a measure of dispersion in the same units as the original data.\n",
    "\n",
    "4. **Interquartile Range (IQR)**: The range of the middle 50% of the data, calculated as the difference between the third quartile (Q3) and the first quartile (Q1).\n"
   ]
  },
  {
   "cell_type": "markdown",
   "metadata": {},
   "source": [
    "### <a id='toc2_4_'></a>[Graphical Representations](#toc0_)\n"
   ]
  },
  {
   "cell_type": "markdown",
   "metadata": {},
   "source": [
    "Graphical representations are visual tools used to display and communicate data effectively. Some common graphical representations in descriptive statistics include:\n",
    "\n",
    "1. **Bar Charts**: These graphs use rectangular bars to represent the frequency or proportion of categorical data.\n",
    "\n",
    "2. **Histograms**: Similar to bar charts, histograms display the frequency distribution of continuous data, with the area of each bar representing the frequency of values within a specific range.\n",
    "\n",
    "3. **Pie Charts**: These circular charts display the proportion of each category in a dataset, with each slice representing a category.\n",
    "\n",
    "4. **Box Plots**: Also known as box-and-whisker plots, these graphs display the distribution of a dataset based on its quartiles, median, and outliers.\n"
   ]
  },
  {
   "cell_type": "markdown",
   "metadata": {},
   "source": [
    "By using these tools and methods, descriptive statistics helps us to better understand and communicate the main features of a dataset, laying the foundation for further statistical analysis and decision-making."
   ]
  },
  {
   "cell_type": "markdown",
   "metadata": {},
   "source": [
    "## <a id='toc3_'></a>[Inferential Statistics](#toc0_)"
   ]
  },
  {
   "cell_type": "markdown",
   "metadata": {
    "vscode": {
     "languageId": "plaintext"
    }
   },
   "source": [
    "Inferential statistics is a branch of statistics that involves making predictions, generalizations, or decisions about a population based on a sample of data. It allows us to use sample data to draw conclusions about a larger population with a certain level of confidence."
   ]
  },
  {
   "cell_type": "markdown",
   "metadata": {},
   "source": [
    "<img src=\"./images/inferential-statistics.png\" width=\"800\">"
   ]
  },
  {
   "cell_type": "markdown",
   "metadata": {},
   "source": [
    "### <a id='toc3_1_'></a>[Sample vs. Population](#toc0_)\n"
   ]
  },
  {
   "cell_type": "markdown",
   "metadata": {},
   "source": [
    "1. **Population**: A population is the entire group of individuals, objects, or events that we are interested in studying. It is the complete set of elements that share a common characteristic.\n",
    "\n",
    "2. **Sample**: A sample is a subset of the population that is selected for study. It is a representative group drawn from the population, and the information gathered from the sample is used to make inferences about the entire population.\n"
   ]
  },
  {
   "cell_type": "markdown",
   "metadata": {},
   "source": [
    "### <a id='toc3_2_'></a>[Survey vs. Experiment](#toc0_)\n"
   ]
  },
  {
   "cell_type": "markdown",
   "metadata": {},
   "source": [
    "1. **Survey**: A survey is a method of collecting data by asking questions to a sample of individuals. Surveys are often used to gather information about opinions, attitudes, behaviors, or characteristics of a population. They can be conducted through various means, such as questionnaires, interviews, or online polls.\n",
    "\n",
    "2. **Experiment**: An experiment is a controlled study in which the researcher manipulates one or more variables (independent variables) to observe their effect on another variable (dependent variable). Experiments are designed to establish cause-and-effect relationships between variables by controlling for potential confounding factors.\n"
   ]
  },
  {
   "cell_type": "markdown",
   "metadata": {},
   "source": [
    "### <a id='toc3_3_'></a>[Making Predictions and Generalizations About Populations Based on Sample Data](#toc0_)\n"
   ]
  },
  {
   "cell_type": "markdown",
   "metadata": {},
   "source": [
    "The main goal of inferential statistics is to use sample data to make inferences about a larger population. This is done by:\n",
    "\n",
    "1. **Sampling**: Selecting a representative subset of the population to study. The sample should be chosen randomly and be large enough to accurately represent the population.\n",
    "\n",
    "2. **Estimation**: Using sample statistics, such as the mean or proportion, to estimate the corresponding population parameters.\n",
    "\n",
    "3. **Generalization**: Drawing conclusions about the population based on the sample data, while accounting for the uncertainty introduced by sampling variability.\n"
   ]
  },
  {
   "cell_type": "markdown",
   "metadata": {},
   "source": [
    "### <a id='toc3_4_'></a>[Hypothesis Testing](#toc0_)\n"
   ]
  },
  {
   "cell_type": "markdown",
   "metadata": {},
   "source": [
    "Hypothesis testing is a method for determining whether a claim or hypothesis about a population is likely to be true based on sample evidence. The process involves:\n",
    "\n",
    "1. **Null Hypothesis (H0)**: A statement that assumes no effect or difference between populations or variables.\n",
    "\n",
    "2. **Alternative Hypothesis (Ha)**: A statement that contradicts the null hypothesis and represents the claim or effect being tested.\n",
    "\n",
    "3. **Test Statistic**: A value calculated from the sample data that is used to determine whether to reject or fail to reject the null hypothesis.\n",
    "\n",
    "4. **P-value**: The probability of obtaining a test statistic as extreme as the one observed, assuming the null hypothesis is true. A small p-value (typically < 0.05) suggests that the null hypothesis is unlikely to be true.\n"
   ]
  },
  {
   "cell_type": "markdown",
   "metadata": {},
   "source": [
    "Common hypothesis tests include t-tests, ANOVA, and chi-square tests.\n"
   ]
  },
  {
   "cell_type": "markdown",
   "metadata": {},
   "source": [
    "### <a id='toc3_5_'></a>[Confidence Intervals](#toc0_)\n"
   ]
  },
  {
   "cell_type": "markdown",
   "metadata": {},
   "source": [
    "Confidence intervals are ranges of values that are likely to contain the true population parameter with a certain level of confidence, such as 95%. They provide a way to estimate the precision of sample estimates and quantify the uncertainty associated with inferential conclusions.\n"
   ]
  },
  {
   "cell_type": "markdown",
   "metadata": {},
   "source": [
    "Confidence intervals are constructed using the sample statistic, the standard error (a measure of sampling variability), and a critical value from a probability distribution (e.g., the t-distribution or the normal distribution).\n"
   ]
  },
  {
   "cell_type": "markdown",
   "metadata": {},
   "source": [
    "### <a id='toc3_6_'></a>[Regression Analysis](#toc0_)\n"
   ]
  },
  {
   "cell_type": "markdown",
   "metadata": {},
   "source": [
    "Regression analysis is a method for modeling the relationship between a dependent variable and one or more independent variables. It helps to understand how changes in the independent variables are associated with changes in the dependent variable.\n"
   ]
  },
  {
   "cell_type": "markdown",
   "metadata": {},
   "source": [
    "Common types of regression analysis include:\n",
    "\n",
    "1. **Linear Regression**: Models the relationship between a continuous dependent variable and one or more independent variables using a linear equation.\n",
    "\n",
    "2. **Logistic Regression**: Models the relationship between a binary dependent variable (e.g., success/failure) and one or more independent variables, estimating the probability of an event occurring.\n",
    "\n",
    "3. **Multiple Regression**: Models the relationship between a dependent variable and two or more independent variables, allowing for the examination of the unique effect of each independent variable while controlling for the others.\n"
   ]
  },
  {
   "cell_type": "markdown",
   "metadata": {},
   "source": [
    "Inferential statistics allows us to make data-driven decisions and draw conclusions about populations based on sample data, while accounting for the inherent uncertainty in the process. By using hypothesis testing, confidence intervals, and regression analysis, we can make informed judgments and predictions in various fields, from business and economics to medicine and social sciences."
   ]
  },
  {
   "cell_type": "markdown",
   "metadata": {},
   "source": [
    "## <a id='toc4_'></a>[Importance of Statistics in Decision Making](#toc0_)"
   ]
  },
  {
   "cell_type": "markdown",
   "metadata": {},
   "source": [
    "In today's data-driven world, statistics play a crucial role in decision-making processes across various industries. By using statistical methods to collect, analyze, and interpret data, organizations can make informed decisions based on objective evidence rather than intuition or guesswork.\n"
   ]
  },
  {
   "cell_type": "markdown",
   "metadata": {},
   "source": [
    "**Data-driven decision** making involves using data and statistical analysis to guide strategic and operational decisions. This approach offers several benefits, including:\n",
    "\n",
    "1. **Objectivity**: Statistical methods provide an unbiased and objective way to analyze data, reducing the influence of personal opinions or biases in decision-making.\n",
    "\n",
    "2. **Accuracy**: By using statistical techniques to analyze large datasets, organizations can identify patterns, trends, and relationships that may not be apparent through casual observation, leading to more accurate decisions.\n",
    "\n",
    "3. **Efficiency**: Statistical analysis can help organizations quickly process and interpret large amounts of data, enabling faster and more efficient decision-making.\n",
    "\n",
    "4. **Risk Reduction**: By using statistical methods to quantify uncertainty and assess risk, organizations can make decisions that minimize potential losses and maximize potential gains.\n",
    "\n",
    "5. **Continuous Improvement**: Data-driven decision making allows organizations to monitor the effectiveness of their decisions over time and make adjustments as needed based on new data and insights.\n"
   ]
  },
  {
   "cell_type": "markdown",
   "metadata": {},
   "source": [
    "Statistics are applied in numerous industries to drive decision-making and optimize outcomes. Some examples include:\n",
    "\n",
    "1. **Healthcare**: Healthcare providers use statistical methods to analyze patient data, assess treatment effectiveness, and identify risk factors for diseases. This information is used to make decisions about resource allocation, treatment protocols, and public health interventions.\n",
    "\n",
    "2. **Finance**: Financial institutions use statistical models to assess credit risk, detect fraud, and optimize investment portfolios. Statistical analysis helps these organizations make data-driven decisions about lending, investing, and risk management.\n",
    "\n",
    "3. **Marketing**: Marketers use statistical techniques to analyze customer data, segment markets, and measure the effectiveness of advertising campaigns. This information is used to make decisions about product development, pricing, and promotional strategies.\n",
    "\n",
    "4. **Manufacturing**: Manufacturers use statistical process control methods to monitor the quality of their products and identify sources of variation in their production processes. This information is used to make decisions about process improvements, quality control, and resource allocation.\n",
    "\n",
    "5. **Sports**: Sports teams and organizations use statistical analysis to evaluate player performance, develop game strategies, and make decisions about player acquisition and team management. This data-driven approach has revolutionized the way many sports are played and managed.\n",
    "\n",
    "6. **Government**: Government agencies use statistical methods to analyze demographic data, assess the effectiveness of public policies, and allocate resources. This information is used to make decisions about public services, infrastructure investments, and regulatory policies.\n"
   ]
  },
  {
   "cell_type": "markdown",
   "metadata": {},
   "source": [
    "By leveraging the power of statistics in decision making, organizations across various industries can make more informed, data-driven decisions that lead to better outcomes and a competitive edge in their respective markets."
   ]
  }
 ],
 "metadata": {
  "language_info": {
   "name": "python"
  }
 },
 "nbformat": 4,
 "nbformat_minor": 2
}
