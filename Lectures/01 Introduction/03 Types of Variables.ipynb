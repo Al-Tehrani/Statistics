{
 "cells": [
  {
   "cell_type": "markdown",
   "metadata": {},
   "source": [
    "<img src=\"./images/banner.png\" width=\"800\">"
   ]
  },
  {
   "cell_type": "markdown",
   "metadata": {},
   "source": [
    "# Types of Variables"
   ]
  },
  {
   "cell_type": "markdown",
   "metadata": {},
   "source": [
    "In the world of statistics and data analysis, understanding the concept of variables is crucial. A **variable** is a characteristic or property that can take on different values. For example, when studying a group of people, variables could include age, height, weight, gender, or income.\n"
   ]
  },
  {
   "cell_type": "markdown",
   "metadata": {},
   "source": [
    "Variables are essential because they help us:\n",
    "- Organize and categorize data\n",
    "- Identify patterns and relationships\n",
    "- Make predictions and draw conclusions\n",
    "- Communicate findings effectively\n"
   ]
  },
  {
   "cell_type": "markdown",
   "metadata": {},
   "source": [
    "To work with variables effectively, it's important to understand the different types of variables and their properties. This knowledge will guide you in choosing the appropriate statistical methods and techniques for analyzing your data.\n"
   ]
  },
  {
   "cell_type": "markdown",
   "metadata": {},
   "source": [
    "In this lecture, we'll explore the main types of variables:\n",
    "1. Qualitative and Quantitative Variables\n",
    "2. Discrete and Continuous Variables\n",
    "3. Independent and Dependent Variables\n",
    "4. Confounding Variables"
   ]
  },
  {
   "cell_type": "markdown",
   "metadata": {},
   "source": [
    "We'll also discuss observational studies and the concept of confounding variables.\n"
   ]
  },
  {
   "cell_type": "markdown",
   "metadata": {},
   "source": [
    "By the end of this lecture, you'll have a solid foundation in understanding the different types of variables and their roles in statistical analysis. This knowledge will empower you to work with data more effectively and make informed decisions based on your findings.\n"
   ]
  },
  {
   "cell_type": "markdown",
   "metadata": {},
   "source": [
    "Let's dive in! 🌟"
   ]
  },
  {
   "cell_type": "markdown",
   "metadata": {},
   "source": [
    "**Table of contents**<a id='toc0_'></a>    \n",
    "- [Qualitative and Quantitative Variables](#toc1_)    \n",
    "  - [Qualitative (Categorical) Variables](#toc1_1_)    \n",
    "  - [Quantitative (Numerical) Variables](#toc1_2_)    \n",
    "- [Discrete and Continuous Variables](#toc2_)    \n",
    "  - [Discrete Variables](#toc2_1_)    \n",
    "  - [Continuous Variables](#toc2_2_)    \n",
    "  - [Approximate Numbers and Rounding Off](#toc2_3_)    \n",
    "- [Independent and Dependent Variables](#toc3_)    \n",
    "  - [Independent Variables](#toc3_1_)    \n",
    "  - [Dependent Variables](#toc3_2_)    \n",
    "  - [Identifying Independent and Dependent Variables](#toc3_3_)    \n",
    "- [Observational Studies and Confounding Variables](#toc4_)    \n",
    "  - [Observational Studies](#toc4_1_)    \n",
    "  - [Confounding Variables](#toc4_2_)    \n",
    "- [Summary](#toc5_)    \n",
    "\n",
    "<!-- vscode-jupyter-toc-config\n",
    "\tnumbering=false\n",
    "\tanchor=true\n",
    "\tflat=false\n",
    "\tminLevel=2\n",
    "\tmaxLevel=6\n",
    "\t/vscode-jupyter-toc-config -->\n",
    "<!-- THIS CELL WILL BE REPLACED ON TOC UPDATE. DO NOT WRITE YOUR TEXT IN THIS CELL -->"
   ]
  },
  {
   "cell_type": "markdown",
   "metadata": {},
   "source": [
    "## <a id='toc1_'></a>[Qualitative and Quantitative Variables](#toc0_)"
   ]
  },
  {
   "cell_type": "markdown",
   "metadata": {},
   "source": [
    "As we discussed in the previous lecture on types of data, similar to data, variables can be classified into two main types: qualitative and quantitative. Let's explore each type in more detail."
   ]
  },
  {
   "cell_type": "markdown",
   "metadata": {},
   "source": [
    "<img src=\"./images/types-of-data.png\" width=\"800\">"
   ]
  },
  {
   "cell_type": "markdown",
   "metadata": {},
   "source": [
    "### <a id='toc1_1_'></a>[Qualitative (Categorical) Variables](#toc0_)\n"
   ]
  },
  {
   "cell_type": "markdown",
   "metadata": {},
   "source": [
    "Qualitative variables, also known as categorical variables, represent characteristics or attributes that cannot be quantified numerically. These variables are often expressed in words or labels."
   ]
  },
  {
   "cell_type": "markdown",
   "metadata": {},
   "source": [
    "Qualitative variables can be further divided into two subcategories:\n",
    "\n",
    "1. **Nominal Variables**: Nominal variables have no inherent order or ranking. Examples include:\n",
    "   - Gender (male, female, non-binary)\n",
    "   - Eye color (blue, brown, green)\n",
    "   - Marital status (single, married, divorced)\n",
    "\n",
    "2. **Ordinal Variables**: Ordinal variables have a natural order or ranking, but the differences between values are not necessarily equal. Examples include:\n",
    "   - Education level (high school, bachelor's, master's, doctorate)\n",
    "   - Income bracket (low, medium, high)\n",
    "   - Likert scale responses (strongly disagree, disagree, neutral, agree, strongly agree)\n"
   ]
  },
  {
   "cell_type": "markdown",
   "metadata": {},
   "source": [
    "### <a id='toc1_2_'></a>[Quantitative (Numerical) Variables](#toc0_)\n"
   ]
  },
  {
   "cell_type": "markdown",
   "metadata": {},
   "source": [
    "Quantitative variables, also known as numerical variables, represent characteristics that can be measured and expressed numerically. These variables can be further divided into two subcategories:\n",
    "\n",
    "1. **Discrete Variables**: Discrete variables can only take on specific, separate values, often integers. Examples include:\n",
    "   - Number of siblings (0, 1, 2, 3, ...)\n",
    "   - Number of cars owned (0, 1, 2, ...)\n",
    "   - Number of students in a class (25, 26, 27, ...)\n",
    "\n",
    "2. **Continuous Variables**: Continuous variables can take on any value within a specific range, including fractional or decimal values. Examples include:\n",
    "   - Height (1.65 m, 1.78 m, 1.82 m, ...)\n",
    "   - Weight (65.3 kg, 72.1 kg, 80.5 kg, ...)\n",
    "   - Time (2.5 seconds, 3.8 seconds, 4.2 seconds, ...)\n"
   ]
  },
  {
   "cell_type": "markdown",
   "metadata": {},
   "source": [
    "Here's a simple example in Python to illustrate the difference between discrete and continuous variables:\n"
   ]
  },
  {
   "cell_type": "code",
   "execution_count": 1,
   "metadata": {},
   "outputs": [],
   "source": [
    "# Discrete variable: Number of siblings\n",
    "siblings = [0, 1, 2, 3, 1, 2, 0, 3, 2, 1]\n",
    "\n",
    "# Continuous variable: Height (in meters)\n",
    "height = [1.65, 1.78, 1.82, 1.60, 1.75, 1.68, 1.84, 1.72, 1.80, 1.77]"
   ]
  },
  {
   "cell_type": "markdown",
   "metadata": {},
   "source": [
    "In the next section, we'll explore discrete and continuous variables in more detail."
   ]
  },
  {
   "cell_type": "markdown",
   "metadata": {},
   "source": [
    "## <a id='toc2_'></a>[Discrete and Continuous Variables](#toc0_)"
   ]
  },
  {
   "cell_type": "markdown",
   "metadata": {},
   "source": [
    "Let's take a closer look at the two types of quantitative variables: discrete and continuous variables.\n"
   ]
  },
  {
   "cell_type": "markdown",
   "metadata": {},
   "source": [
    "<img src=\"./images/quantitative-data.png\" width=\"800\">"
   ]
  },
  {
   "cell_type": "markdown",
   "metadata": {},
   "source": [
    "### <a id='toc2_1_'></a>[Discrete Variables](#toc0_)\n"
   ]
  },
  {
   "cell_type": "markdown",
   "metadata": {},
   "source": [
    "- **Definition**: Discrete variables can only take on specific, separate values, often integers or whole numbers. These variables usually involve counting.\n",
    "\n",
    "- **Examples**:\n",
    "  - Number of pets owned (0, 1, 2, 3, ...)\n",
    "  - Number of students absent in a class (0, 1, 2, ...)\n",
    "  - Number of cars in a parking lot (10, 11, 12, ...)\n",
    "\n",
    "- **Characteristics of Discrete Variables**:\n",
    "  - Values are distinct and separate\n",
    "  - Often represented by integers or whole numbers\n",
    "  - Gaps exist between values (e.g., you can't have 1.5 pets)\n"
   ]
  },
  {
   "cell_type": "markdown",
   "metadata": {},
   "source": [
    "### <a id='toc2_2_'></a>[Continuous Variables](#toc0_)\n"
   ]
  },
  {
   "cell_type": "markdown",
   "metadata": {},
   "source": [
    "- **Definition**: Continuous variables can take on any value within a specific range, including fractional or decimal values. These variables usually involve measuring.\n",
    "\n",
    "- **Examples**:\n",
    "  - Height (1.65 m, 1.78 m, 1.82 m, ...)\n",
    "  - Weight (65.3 kg, 72.1 kg, 80.5 kg, ...)\n",
    "  - Time taken to complete a task (2.5 seconds, 3.8 seconds, 4.2 seconds, ...)\n",
    "\n",
    "- **Characteristics of Continuous Variables**:\n",
    "  - Values can take on any number within a range\n",
    "  - Often represented by real numbers (including fractions and decimals)\n",
    "  - No gaps exist between values (e.g., height can be 1.75 m or 1.76 m)\n"
   ]
  },
  {
   "cell_type": "markdown",
   "metadata": {},
   "source": [
    "In the next section, we'll explore the concepts of independent and dependent variables in the context of experiments and observational studies."
   ]
  },
  {
   "cell_type": "markdown",
   "metadata": {},
   "source": [
    "## <a id='toc3_'></a>[Independent and Dependent Variables](#toc0_)"
   ]
  },
  {
   "cell_type": "markdown",
   "metadata": {},
   "source": [
    "When conducting experiments or observational studies, it's essential to understand the roles of independent and dependent variables.\n"
   ]
  },
  {
   "cell_type": "markdown",
   "metadata": {},
   "source": [
    "<img src=\"./images/1.png\" width=\"800\">"
   ]
  },
  {
   "cell_type": "markdown",
   "metadata": {},
   "source": [
    "<img src=\"./images/2.png\" width=\"800\">"
   ]
  },
  {
   "cell_type": "markdown",
   "metadata": {},
   "source": [
    "<img src=\"./images/3.png\" width=\"800\">"
   ]
  },
  {
   "cell_type": "markdown",
   "metadata": {},
   "source": [
    "### <a id='toc3_1_'></a>[Independent Variables](#toc0_)\n"
   ]
  },
  {
   "cell_type": "markdown",
   "metadata": {},
   "source": [
    "- **Definition**: An independent variable is a variable that is manipulated or controlled by the investigator in an experiment. It is believed to have an effect on the dependent variable.\n",
    "\n",
    "- **Role in Experiments**:\n",
    "  - The investigator deliberately changes or manipulates the independent variable to observe its effect on the dependent variable.\n",
    "  - Different levels or conditions of the independent variable are assigned to different groups of subjects.\n",
    "\n",
    "- **Manipulated by the Investigator**:\n",
    "  - The investigator has control over the independent variable and can decide which subjects receive which levels or conditions.\n",
    "  - Example: In a study on the effect of sleep duration on memory, the investigator might assign participants to either a 6-hour sleep group or an 8-hour sleep group (independent variable).\n"
   ]
  },
  {
   "cell_type": "markdown",
   "metadata": {},
   "source": [
    "### <a id='toc3_2_'></a>[Dependent Variables](#toc0_)\n"
   ]
  },
  {
   "cell_type": "markdown",
   "metadata": {},
   "source": [
    "- **Definition**: A dependent variable is a variable that is measured, counted, or recorded by the investigator in an experiment. It is believed to be affected by the independent variable.\n"
   ]
  },
  {
   "cell_type": "markdown",
   "metadata": {},
   "source": [
    "- **Role in Experiments**:\n",
    "  - The dependent variable is the outcome or response that the investigator measures to determine the effect of the independent variable.\n",
    "  - Changes in the dependent variable are presumed to be caused by the manipulation of the independent variable.\n",
    "\n",
    "- **Measured, Counted, or Recorded by the Investigator**:\n",
    "  - The investigator observes and records the values of the dependent variable for each subject or group in the experiment.\n",
    "  - Example: In the sleep duration study, the investigator might measure the participants' memory performance (dependent variable) using a memory test.\n"
   ]
  },
  {
   "cell_type": "markdown",
   "metadata": {},
   "source": [
    "### <a id='toc3_3_'></a>[Identifying Independent and Dependent Variables](#toc0_)\n"
   ]
  },
  {
   "cell_type": "markdown",
   "metadata": {},
   "source": [
    "To identify the independent and dependent variables in a study, ask yourself:\n",
    "- What is being manipulated or changed by the investigator? (Independent variable)\n",
    "- What is being measured or observed as a result of the manipulation? (Dependent variable)\n"
   ]
  },
  {
   "cell_type": "markdown",
   "metadata": {},
   "source": [
    "Understanding the roles of independent and dependent variables is crucial for designing and interpreting experiments and observational studies.\n"
   ]
  },
  {
   "cell_type": "markdown",
   "metadata": {},
   "source": [
    "## <a id='toc4_'></a>[Observational Studies and Confounding Variables](#toc0_)"
   ]
  },
  {
   "cell_type": "markdown",
   "metadata": {},
   "source": [
    "In addition to experiments, researchers often conduct observational studies to investigate relationships between variables. However, observational studies have limitations and can be affected by confounding variables.\n"
   ]
  },
  {
   "cell_type": "markdown",
   "metadata": {},
   "source": [
    "<img src=\"./images/observation-experiment.png\" width=\"400\">"
   ]
  },
  {
   "cell_type": "markdown",
   "metadata": {},
   "source": [
    "### <a id='toc4_1_'></a>[Observational Studies](#toc0_)\n"
   ]
  },
  {
   "cell_type": "markdown",
   "metadata": {},
   "source": [
    "- **Definition**: An observational study is a type of study where the investigator observes and measures variables without manipulating them. The investigator does not control or assign the independent variable.\n",
    "\n",
    "- **Purpose**:\n",
    "  - To examine relationships between variables as they naturally occur.\n",
    "  - To generate hypotheses for future experimental research.\n",
    "\n",
    "- **Limitations in Determining Cause-Effect Relationships**:\n",
    "  - Observational studies cannot definitively establish cause-effect relationships because the investigator does not manipulate the independent variable.\n",
    "  - Other factors (confounding variables) may influence the relationship between the variables, making it difficult to determine the true cause of the observed effects.\n"
   ]
  },
  {
   "cell_type": "markdown",
   "metadata": {},
   "source": [
    "### <a id='toc4_2_'></a>[Confounding Variables](#toc0_)\n"
   ]
  },
  {
   "cell_type": "markdown",
   "metadata": {},
   "source": [
    "- **Definition**: A confounding variable is an extraneous variable that is related to both the independent and dependent variables in a study. It can influence the outcome of the study and make it difficult to interpret the results accurately.\n",
    "\n",
    "- **Impact on Study Interpretation**:\n",
    "  - Confounding variables can lead to misleading conclusions about the relationship between the independent and dependent variables.\n",
    "  - They can create the appearance of a relationship between variables when none exists, or they can mask a true relationship.\n",
    "\n",
    "- **Avoiding Confounding Variables**:\n",
    "  - *Random Assignment*: In experiments, randomly assigning subjects to different levels of the independent variable helps to distribute potential confounding variables evenly across groups, minimizing their impact.\n",
    "  - *Standardization*: Keeping all other variables constant across groups (except for the independent variable) helps to control for potential confounding variables.\n"
   ]
  },
  {
   "cell_type": "markdown",
   "metadata": {},
   "source": [
    "Here's an example of how confounding variables can affect the interpretation of a study:\n",
    "\n",
    "> Suppose an observational study finds a positive correlation between ice cream sales and drowning incidents. It might be tempting to conclude that eating ice cream causes drowning. However, a confounding variable, such as hot weather, could be responsible for both increased ice cream sales and more people swimming (leading to more drowning incidents). In this case, the hot weather is the confounding variable that influences both the independent variable (ice cream sales) and the dependent variable (drowning incidents).\n"
   ]
  },
  {
   "cell_type": "markdown",
   "metadata": {},
   "source": [
    "<img src=\"./images/confounding-variable.png\" width=\"800\">"
   ]
  },
  {
   "cell_type": "markdown",
   "metadata": {},
   "source": [
    "Hot weather (confounding variable) influences both ice cream sales (independent variable) and drowning incidents (dependent variable), creating a spurious relationship between the two variables.\n"
   ]
  },
  {
   "cell_type": "markdown",
   "metadata": {},
   "source": [
    "Understanding the limitations of observational studies and the impact of confounding variables is crucial for accurately interpreting research findings and drawing appropriate conclusions."
   ]
  },
  {
   "cell_type": "markdown",
   "metadata": {},
   "source": [
    "## <a id='toc5_'></a>[Summary](#toc0_)\n"
   ]
  },
  {
   "cell_type": "markdown",
   "metadata": {},
   "source": [
    "In this lecture, we explored the different types of variables and their roles in statistical analysis and research. Let's recap the key points:\n",
    "\n",
    "- Variables are characteristics or properties that can take on different values, and they are essential for organizing data, identifying patterns, and making informed decisions.\n",
    "\n",
    "- Variables can be classified into two main categories:\n",
    "  - **Qualitative (Categorical) Variables**: Variables that represent characteristics or attributes that cannot be quantified numerically. They can be further divided into nominal (no inherent order) and ordinal (natural order, but differences not necessarily equal) variables.\n",
    "  - **Quantitative (Numerical) Variables**: Variables that represent characteristics that can be measured and expressed numerically. They can be further divided into discrete (specific, separate values) and continuous (any value within a range) variables.\n",
    "\n",
    "- When working with continuous variables, it's important to consider the level of precision required and be aware that the values are often approximations due to rounding off.\n",
    "\n",
    "- In experiments and observational studies, variables can be classified as:\n",
    "  - **Independent Variables**: Variables that are manipulated or controlled by the investigator, believed to have an effect on the dependent variable.\n",
    "  - **Dependent Variables**: Variables that are measured, counted, or recorded by the investigator, believed to be affected by the independent variable.\n",
    "\n",
    "- Observational studies are used to examine relationships between variables as they naturally occur, but they have limitations in determining cause-effect relationships due to the presence of confounding variables.\n",
    "\n",
    "- **Confounding Variables**: Extraneous variables that are related to both the independent and dependent variables, which can influence the outcome of a study and lead to misleading conclusions.\n",
    "\n",
    "- To minimize the impact of confounding variables, researchers can use random assignment (in experiments) and standardization (keeping other variables constant).\n"
   ]
  },
  {
   "cell_type": "markdown",
   "metadata": {},
   "source": [
    "Understanding the different types of variables and their roles is crucial for effective data analysis and interpretation. By correctly identifying and classifying variables, researchers can:\n",
    "- Choose appropriate statistical methods and techniques\n",
    "- Design experiments and observational studies effectively\n",
    "- Control for confounding variables\n",
    "- Accurately interpret research findings and draw valid conclusions\n"
   ]
  },
  {
   "cell_type": "markdown",
   "metadata": {},
   "source": [
    "Mastering the concepts of variable types empowers researchers and data analysts to make informed decisions, uncover meaningful insights, and communicate their findings effectively.\n"
   ]
  }
 ],
 "metadata": {
  "kernelspec": {
   "display_name": "py310",
   "language": "python",
   "name": "python3"
  },
  "language_info": {
   "codemirror_mode": {
    "name": "ipython",
    "version": 3
   },
   "file_extension": ".py",
   "mimetype": "text/x-python",
   "name": "python",
   "nbconvert_exporter": "python",
   "pygments_lexer": "ipython3",
   "version": "3.10.12"
  }
 },
 "nbformat": 4,
 "nbformat_minor": 2
}
