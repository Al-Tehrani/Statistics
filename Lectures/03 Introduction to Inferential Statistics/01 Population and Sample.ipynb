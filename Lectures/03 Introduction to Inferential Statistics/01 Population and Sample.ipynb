{
 "cells": [
  {
   "cell_type": "markdown",
   "metadata": {},
   "source": [
    "# Populations, Samples, and Study Design"
   ]
  },
  {
   "cell_type": "markdown",
   "metadata": {},
   "source": [
    "Welcome to the first lecture of Chapter 1: Introduction to Inferential Statistics! In this lecture, we will lay the groundwork for understanding inferential statistics by exploring the concepts of populations, samples, and study design.\n"
   ]
  },
  {
   "cell_type": "markdown",
   "metadata": {},
   "source": [
    "Inferential statistics is a branch of statistics that allows us to make generalizations about a population based on a sample of data. In other words, it enables us to draw conclusions about a larger group (the population) by analyzing a smaller subset of that group (the sample). This is particularly useful when it is impractical or impossible to collect data from an entire population.\n"
   ]
  },
  {
   "cell_type": "markdown",
   "metadata": {},
   "source": [
    "For example, suppose we want to know the average height of all adults in a country. It would be incredibly time-consuming and expensive to measure every single adult. Instead, we can use inferential statistics to estimate the average height by measuring a representative sample of adults and then generalizing our findings to the entire population.\n"
   ]
  },
  {
   "cell_type": "markdown",
   "metadata": {},
   "source": [
    "The accuracy of our generalizations depends on several factors, including the size and representativeness of our sample, as well as the design of our study. In inferential statistics, we use probability theory to quantify the uncertainty associated with our estimates and to make informed decisions based on our data.\n"
   ]
  },
  {
   "cell_type": "markdown",
   "metadata": {},
   "source": [
    "Some key concepts in inferential statistics include:\n",
    "\n",
    "- **Hypothesis testing**: A process of evaluating claims or hypotheses about a population based on sample data.\n",
    "- **Confidence intervals**: A range of values that is likely to contain the true population parameter with a certain level of confidence.\n",
    "- **p-values**: The probability of obtaining a result as extreme as the observed data, assuming the null hypothesis is true.\n"
   ]
  },
  {
   "cell_type": "markdown",
   "metadata": {},
   "source": [
    "Throughout this course, we will explore these concepts in more detail and learn how to apply them to real-world problems.\n"
   ]
  },
  {
   "cell_type": "markdown",
   "metadata": {},
   "source": [
    "In this lecture, we will cover the following topics:\n",
    "\n",
    "1. **Populations and Samples**\n",
    "   - Defining populations\n",
    "   - Defining samples\n",
    "   - Importance of representative samples\n",
    "\n",
    "2. **Random Sampling**\n",
    "   - Simple random sampling\n",
    "   - Stratified random sampling\n",
    "   - Cluster sampling\n",
    "   - Systematic sampling\n",
    "\n",
    "3. **Random Assignment**\n",
    "   - Importance of random assignment in experiments\n",
    "   - Distinguishing between random sampling and random assignment\n",
    "\n",
    "4. **Surveys and Experiments**\n",
    "   - Observational studies and surveys\n",
    "   - Experiments and causality\n"
   ]
  },
  {
   "cell_type": "markdown",
   "metadata": {},
   "source": [
    "By the end of this lecture, you will have a solid understanding of the key concepts and terminology related to populations, samples, and study design. This knowledge will serve as a foundation for the rest of the course, where we will delve deeper into inferential statistics and learn how to apply these concepts to real-world data.\n"
   ]
  },
  {
   "cell_type": "markdown",
   "metadata": {},
   "source": [
    "Let's begin by defining populations and samples, and exploring why it's crucial to have a representative sample when making inferences about a population."
   ]
  },
  {
   "cell_type": "markdown",
   "metadata": {},
   "source": [
    "**Table of contents**<a id='toc0_'></a>    \n",
    "- [Populations and Samples](#toc1_)    \n",
    "- [Random Sampling](#toc2_)    \n",
    "  - [A. Probability Sampling](#toc2_1_)    \n",
    "  - [B. Non-Probability Sampling](#toc2_2_)    \n",
    "- [Random Assignment](#toc3_)    \n",
    "  - [Importance of Random Assignment in Experiments](#toc3_1_)    \n",
    "  - [Distinguishing Between Random Sampling and Random Assignment](#toc3_2_)    \n",
    "- [Observational Studies, Experiments, and Inferential Statistics](#toc4_)    \n",
    "  - [Observational Studies and Surveys](#toc4_1_)    \n",
    "  - [Experiments](#toc4_2_)    \n",
    "  - [Linking to Inferential Statistics](#toc4_3_)    \n",
    "\n",
    "<!-- vscode-jupyter-toc-config\n",
    "\tnumbering=false\n",
    "\tanchor=true\n",
    "\tflat=false\n",
    "\tminLevel=2\n",
    "\tmaxLevel=6\n",
    "\t/vscode-jupyter-toc-config -->\n",
    "<!-- THIS CELL WILL BE REPLACED ON TOC UPDATE. DO NOT WRITE YOUR TEXT IN THIS CELL -->"
   ]
  },
  {
   "cell_type": "markdown",
   "metadata": {},
   "source": [
    "## <a id='toc1_'></a>[Populations and Samples](#toc0_)"
   ]
  },
  {
   "cell_type": "markdown",
   "metadata": {},
   "source": [
    "In this section, we'll define populations and samples, and discuss the importance of having a representative sample when making inferences about a population.\n"
   ]
  },
  {
   "cell_type": "markdown",
   "metadata": {},
   "source": [
    "A **population** is the entire group of individuals, objects, or events that we are interested in studying. It is the complete set of elements that share a common characteristic. For example, if we want to study the average height of all students in a university, the population would be all students enrolled in that university.\n"
   ]
  },
  {
   "cell_type": "markdown",
   "metadata": {},
   "source": [
    "In statistical notation, we often use the following symbols when discussing populations:\n",
    "\n",
    "- $N$: The size of the population (total number of elements)\n",
    "- $\\mu$ (mu): The population mean (average value of a characteristic in the population)\n",
    "- $\\sigma$ (sigma): The population standard deviation (measure of variability in the population)\n"
   ]
  },
  {
   "cell_type": "markdown",
   "metadata": {},
   "source": [
    "A **sample** is a subset of the population that is selected for study. It is a portion of the population that we use to make inferences about the entire population. For example, if we want to estimate the average height of all students in a university, we might select a sample of 100 students to measure their heights.\n"
   ]
  },
  {
   "cell_type": "markdown",
   "metadata": {},
   "source": [
    "In statistical notation, we often use the following symbols when discussing samples:\n",
    "\n",
    "- $n$: The size of the sample (number of elements in the sample)\n",
    "- $\\bar{x}$ (x-bar): The sample mean (average value of a characteristic in the sample)\n",
    "- $s$: The sample standard deviation (measure of variability in the sample)\n"
   ]
  },
  {
   "cell_type": "markdown",
   "metadata": {},
   "source": [
    "When making inferences about a population based on a sample, it is crucial that the sample is **representative** of the population. A representative sample accurately reflects the characteristics of the population, such as its diversity and proportions.\n"
   ]
  },
  {
   "cell_type": "markdown",
   "metadata": {},
   "source": [
    "If a sample is not representative, it can lead to **biased** results and inaccurate conclusions about the population. Some common types of bias include:\n",
    "\n",
    "- **Selection bias**: When the sample is not randomly selected, leading to an overrepresentation or underrepresentation of certain groups.\n",
    "- **Non-response bias**: When individuals who are selected for the sample do not respond or participate, leading to a sample that may not be representative of the population.\n",
    "- **Voluntary response bias**: When individuals who voluntarily participate in a study are systematically different from those who do not participate.\n"
   ]
  },
  {
   "cell_type": "markdown",
   "metadata": {},
   "source": [
    "To minimize bias and ensure a representative sample, researchers often use **random sampling** techniques, which we will discuss in the next section.\n"
   ]
  },
  {
   "cell_type": "markdown",
   "metadata": {},
   "source": [
    "In summary, a population is the entire group of interest, while a sample is a subset of that population used to make inferences. It is essential to have a representative sample to accurately draw conclusions about the population and minimize bias in our results."
   ]
  },
  {
   "cell_type": "markdown",
   "metadata": {},
   "source": [
    "## <a id='toc2_'></a>[Random Sampling](#toc0_)"
   ]
  },
  {
   "cell_type": "markdown",
   "metadata": {},
   "source": [
    "Random sampling is a technique used to select a sample from a population in such a way that each element of the population has an equal chance of being included in the sample. This helps ensure that the sample is representative of the population, minimizing bias and allowing for accurate inferences. There are several types of random sampling, which can be broadly categorized into probability sampling and non-probability sampling.\n"
   ]
  },
  {
   "cell_type": "markdown",
   "metadata": {},
   "source": [
    "### <a id='toc2_1_'></a>[A. Probability Sampling](#toc0_)\n"
   ]
  },
  {
   "cell_type": "markdown",
   "metadata": {},
   "source": [
    "Probability sampling involves selecting elements from a population based on a known probability. This allows researchers to calculate the likelihood of each element being included in the sample and to make statistical inferences about the population. Some common types of probability sampling include:\n",
    "\n",
    "1. **Simple Random Sampling (SRS)**:\n",
    "   - In SRS, each element in the population has an equal chance of being selected for the sample.\n",
    "   - Elements are selected independently of each other.\n",
    "   - Example: Using a random number generator to select 50 students from a list of all students in a university.\n",
    "\n",
    "2. **Systematic Sampling**:\n",
    "   - Elements are selected from a population at regular intervals after a random starting point.\n",
    "   - The sampling interval is calculated as $k = \\frac{N}{n}$, where $N$ is the population size and $n$ is the desired sample size.\n",
    "   - Example: Selecting every 10th student from an alphabetical list of all students in a university.\n",
    "\n",
    "3. **Stratified Sampling**:\n",
    "   - The population is divided into mutually exclusive and exhaustive subgroups (strata) based on a specific characteristic.\n",
    "   - A simple random sample is then taken from each stratum.\n",
    "   - This ensures that each subgroup is proportionately represented in the sample.\n",
    "   - Example: Dividing a university's student population by major and selecting a random sample from each major.\n",
    "\n",
    "4. **Cluster Sampling**:\n",
    "   - The population is divided into naturally occurring groups (clusters), such as schools or city blocks.\n",
    "   - A random sample of clusters is selected, and all elements within the selected clusters are included in the sample.\n",
    "   - This is useful when a complete list of the population is not available or when elements are geographically dispersed.\n",
    "   - Example: Randomly selecting 10 classrooms from a school district and including all students in those classrooms in the sample.\n",
    "\n",
    "5. **Multi-stage Sampling**:\n",
    "   - This involves a combination of two or more probability sampling techniques.\n",
    "   - It is often used when the population is large and geographically dispersed.\n",
    "   - Example: First using cluster sampling to select schools within a district, then using stratified sampling to select students within each school based on grade level.\n"
   ]
  },
  {
   "cell_type": "markdown",
   "metadata": {},
   "source": [
    "### <a id='toc2_2_'></a>[B. Non-Probability Sampling](#toc0_)\n"
   ]
  },
  {
   "cell_type": "markdown",
   "metadata": {},
   "source": [
    "Non-probability sampling involves selecting elements from a population based on non-random criteria, such as convenience or the researcher's judgment. This type of sampling does not allow for statistical inferences about the population, as the sample may not be representative. Some common types of non-probability sampling include:\n",
    "\n",
    "1. **Convenience Sampling**:\n",
    "   - Elements are selected based on their ease of accessibility or convenience to the researcher.\n",
    "   - This method is quick and inexpensive but may lead to biased results.\n",
    "   - Example: Surveying students in a cafeteria because they are readily available.\n",
    "\n",
    "2. **Purposive Sampling**:\n",
    "   - Elements are selected based on the researcher's judgment or specific criteria.\n",
    "   - This method is useful when the researcher needs a sample with specific characteristics.\n",
    "   - Types of purposive sampling include:\n",
    "     a. **Judgmental Sampling**: The researcher selects elements based on their expertise or judgment.\n",
    "     b. **Snowball Sampling**: Participants are asked to recommend other individuals who meet the study criteria.\n",
    "     c. **Quota Sampling**: The researcher selects elements based on predetermined quotas for specific subgroups.\n",
    "\n",
    "3. **Voluntary Response Sampling**:\n",
    "   - Participants self-select into the sample by responding to an open invitation.\n",
    "   - This method is prone to self-selection bias, as those who volunteer may differ from those who do not.\n",
    "   - Example: An online survey shared on social media, where anyone can choose to participate.\n"
   ]
  },
  {
   "cell_type": "markdown",
   "metadata": {},
   "source": [
    "In summary, probability sampling techniques, such as simple random sampling, systematic sampling, stratified sampling, cluster sampling, and multi-stage sampling, are preferred when making statistical inferences about a population. Non-probability sampling techniques, such as convenience sampling, purposive sampling, and voluntary response sampling, may be used in certain situations but do not allow for generalizations to the entire population due to potential biases."
   ]
  },
  {
   "cell_type": "markdown",
   "metadata": {},
   "source": [
    "## <a id='toc3_'></a>[Random Assignment](#toc0_)"
   ]
  },
  {
   "cell_type": "markdown",
   "metadata": {},
   "source": [
    "Random assignment is a crucial aspect of experimental design that involves randomly allocating participants to different treatment groups or conditions. This helps ensure that any differences observed between the groups can be attributed to the treatment itself, rather than pre-existing differences among participants.\n"
   ]
  },
  {
   "cell_type": "markdown",
   "metadata": {},
   "source": [
    "### <a id='toc3_1_'></a>[Importance of Random Assignment in Experiments](#toc0_)\n"
   ]
  },
  {
   "cell_type": "markdown",
   "metadata": {},
   "source": [
    "Random assignment plays a vital role in establishing cause-and-effect relationships in experiments. By randomly assigning participants to different groups, researchers can minimize the impact of confounding variables and potential biases. Some key benefits of random assignment include:\n",
    "\n",
    "1. **Minimizing confounding variables**: Random assignment helps distribute potential confounding variables (such as age, gender, or prior knowledge) evenly across treatment groups. This ensures that these variables do not systematically influence the results of the experiment.\n",
    "\n",
    "2. **Reducing bias**: Random assignment helps prevent researcher bias in assigning participants to groups. It eliminates the possibility of the researcher consciously or unconsciously placing certain participants in a particular group based on their characteristics or expected outcomes.\n",
    "\n",
    "3. **Enhancing internal validity**: By minimizing the impact of confounding variables and reducing bias, random assignment strengthens the internal validity of an experiment. This means that any observed differences between the groups can be more confidently attributed to the treatment itself.\n",
    "\n",
    "4. **Enabling causal inferences**: Random assignment is a key component in establishing cause-and-effect relationships. When combined with a well-designed experiment, random assignment allows researchers to make causal inferences about the impact of the treatment on the dependent variable.\n"
   ]
  },
  {
   "cell_type": "markdown",
   "metadata": {},
   "source": [
    "### <a id='toc3_2_'></a>[Distinguishing Between Random Sampling and Random Assignment](#toc0_)\n"
   ]
  },
  {
   "cell_type": "markdown",
   "metadata": {},
   "source": [
    "Although random sampling and random assignment both involve the use of randomness, they serve different purposes and are used in different contexts.\n",
    "\n",
    "- **Random sampling** is used to select a sample from a population. It ensures that each element in the population has an equal chance of being included in the sample, which helps make the sample representative of the population. Random sampling is primarily used in observational studies and surveys to make generalizations about the population.\n",
    "\n",
    "- **Random assignment** is used to allocate participants to different treatment groups or conditions within an experiment. It ensures that each participant has an equal chance of being assigned to any of the groups, which helps minimize the impact of confounding variables and potential biases. Random assignment is primarily used in experimental studies to establish cause-and-effect relationships.\n"
   ]
  },
  {
   "cell_type": "markdown",
   "metadata": {},
   "source": [
    "To better understand the difference, consider the following example:\n",
    "\n",
    "- A researcher wants to study the effectiveness of a new teaching method on student performance.\n",
    "- First, the researcher uses random sampling to select a sample of students from the population of all students in a school district. This ensures that the sample is representative of the population.\n",
    "- Then, the researcher uses random assignment to allocate the sampled students to either the treatment group (which receives the new teaching method) or the control group (which receives the standard teaching method). This ensures that any differences in student performance between the groups can be attributed to the teaching method itself.\n"
   ]
  },
  {
   "cell_type": "markdown",
   "metadata": {},
   "source": [
    "In summary, random assignment is essential for establishing cause-and-effect relationships in experiments by minimizing the impact of confounding variables and reducing bias. It is important to distinguish between random sampling, which is used to select a representative sample from a population, and random assignment, which is used to allocate participants to different treatment groups within an experiment."
   ]
  },
  {
   "cell_type": "markdown",
   "metadata": {},
   "source": [
    "## <a id='toc4_'></a>[Observational Studies, Experiments, and Inferential Statistics](#toc0_)"
   ]
  },
  {
   "cell_type": "markdown",
   "metadata": {},
   "source": [
    "In the previous chapter on descriptive statistics, we discussed the differences between observational studies and experiments. Let's briefly review these concepts and explore how they relate to inferential statistics.\n"
   ]
  },
  {
   "cell_type": "markdown",
   "metadata": {},
   "source": [
    "### <a id='toc4_1_'></a>[Observational Studies and Surveys](#toc0_)\n",
    "\n",
    "- Observational studies, including surveys, involve collecting data on variables without manipulation.\n",
    "- These studies are useful for identifying associations between variables and generalizing findings to larger populations when combined with random sampling.\n",
    "- However, observational studies cannot establish cause-and-effect relationships due to the presence of potential confounding variables.\n"
   ]
  },
  {
   "cell_type": "markdown",
   "metadata": {},
   "source": [
    "### <a id='toc4_2_'></a>[Experiments](#toc0_)\n",
    "\n",
    "- Experiments involve the manipulation of one or more independent variables to observe their effect on a dependent variable while controlling for other potential confounding variables.\n",
    "- Random assignment is crucial in experiments to minimize the impact of confounding variables and potential biases.\n",
    "- Well-designed experiments with random assignment and control groups can establish cause-and-effect relationships between variables.\n"
   ]
  },
  {
   "cell_type": "markdown",
   "metadata": {},
   "source": [
    "### <a id='toc4_3_'></a>[Linking to Inferential Statistics](#toc0_)\n",
    "\n",
    "- Inferential statistics allows us to make generalizations about a population based on a sample of data.\n",
    "- When conducting observational studies or surveys, inferential statistics can be used to estimate population parameters (such as means or proportions) and to test hypotheses about the relationships between variables.\n",
    "- In experiments, inferential statistics can be used to determine whether the observed differences between treatment groups are statistically significant and to estimate the size of the treatment effect.\n",
    "- The concepts of random sampling and random assignment, discussed in the previous sections, are essential for making valid inferences from both observational studies and experiments.\n"
   ]
  },
  {
   "cell_type": "markdown",
   "metadata": {},
   "source": [
    "By understanding the differences between observational studies and experiments, and how they relate to inferential statistics, researchers can make informed decisions about the appropriate study design and statistical analyses for their research questions."
   ]
  }
 ],
 "metadata": {
  "language_info": {
   "name": "python"
  }
 },
 "nbformat": 4,
 "nbformat_minor": 2
}
