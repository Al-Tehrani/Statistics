{
 "cells": [
  {
   "cell_type": "markdown",
   "metadata": {},
   "source": [
    "<img src=\"./images/banner.png\" width=\"800\">"
   ]
  },
  {
   "cell_type": "markdown",
   "metadata": {},
   "source": [
    "# Describing Relationships: Correlations"
   ]
  },
  {
   "cell_type": "markdown",
   "metadata": {},
   "source": [
    "Welcome to the lecture on Describing Relationships: Correlations! In this Jupyter Notebook, we will explore how to measure and interpret the relationship between two variables using correlation coefficients. \n"
   ]
  },
  {
   "cell_type": "markdown",
   "metadata": {},
   "source": [
    "Correlation is a statistical measure that indicates the extent to which two or more variables fluctuate together. It is a crucial concept in statistics, as it helps us understand how changes in one variable are associated with changes in another variable. Correlations can be positive (indicating a direct relationship), negative (indicating an inverse relationship), or zero (indicating no relationship).\n"
   ]
  },
  {
   "cell_type": "markdown",
   "metadata": {},
   "source": [
    "Throughout this lecture, we will cover the following topics:\n",
    "\n",
    "1. Scatterplots\n",
    "2. Pearson's Correlation Coefficient\n",
    "   - Calculating Pearson's Correlation Coefficient\n",
    "   - Interpreting Pearson's Correlation Coefficient\n",
    "3. Spearman's Rank Correlation Coefficient\n",
    "   - Calculating Spearman's Rank Correlation Coefficient\n",
    "   - Interpreting Spearman's Rank Correlation Coefficient\n",
    "4. Correlation vs. Causation\n"
   ]
  },
  {
   "cell_type": "markdown",
   "metadata": {},
   "source": [
    "By the end of this lecture, you will have a solid understanding of how to measure and interpret correlations between variables, as well as the limitations of correlation analysis. Let's dive in!\n"
   ]
  },
  {
   "cell_type": "markdown",
   "metadata": {},
   "source": [
    "*Note: This lecture assumes a basic understanding of statistics concepts, such as mean, variance, and standard deviation.*"
   ]
  },
  {
   "cell_type": "markdown",
   "metadata": {},
   "source": [
    "**Table of contents**<a id='toc0_'></a>    \n",
    "- [Scatterplots](#toc1_)    \n",
    "- [Pearson's Correlation Coefficient](#toc2_)    \n",
    "  - [(Optional) Calculating Pearson's Correlation Coefficient](#toc2_1_)    \n",
    "  - [Interpreting Pearson's Correlation Coefficient](#toc2_2_)    \n",
    "- [(Optional) Spearman's Rank Correlation Coefficient](#toc3_)    \n",
    "  - [Calculating Spearman's Rank Correlation Coefficient](#toc3_1_)    \n",
    "  - [Interpreting Spearman's Rank Correlation Coefficient](#toc3_2_)    \n",
    "- [Correlation vs. Causation](#toc4_)    \n",
    "  - [Examples of Correlation without Causation](#toc4_1_)    \n",
    "  - [Determining Causation](#toc4_2_)    \n",
    "  - [Real-world Examples](#toc4_3_)    \n",
    "\n",
    "<!-- vscode-jupyter-toc-config\n",
    "\tnumbering=false\n",
    "\tanchor=true\n",
    "\tflat=false\n",
    "\tminLevel=2\n",
    "\tmaxLevel=6\n",
    "\t/vscode-jupyter-toc-config -->\n",
    "<!-- THIS CELL WILL BE REPLACED ON TOC UPDATE. DO NOT WRITE YOUR TEXT IN THIS CELL -->"
   ]
  },
  {
   "cell_type": "markdown",
   "metadata": {},
   "source": [
    "## <a id='toc1_'></a>[Scatterplots](#toc0_)"
   ]
  },
  {
   "cell_type": "markdown",
   "metadata": {},
   "source": [
    "A scatterplot is a graphical representation of the relationship between two quantitative variables. It is an essential tool for visualizing correlations and identifying patterns in data. In a scatterplot, each observation is represented by a point on a two-dimensional graph, with one variable plotted along the x-axis and the other variable plotted along the y-axis.\n"
   ]
  },
  {
   "cell_type": "markdown",
   "metadata": {},
   "source": [
    "Here are some key points about scatterplots:\n",
    "\n",
    "1. **Axes**: The independent variable (also called the explanatory or predictor variable) is typically plotted on the x-axis, while the dependent variable (also called the response or outcome variable) is plotted on the y-axis.\n",
    "\n",
    "2. **Data points**: Each point on the scatterplot represents a single observation or data point. The position of the point is determined by its values for the two variables being plotted.\n",
    "\n",
    "3. **Patterns**: Scatterplots can reveal various patterns in the data, such as:\n",
    "   - *Positive correlation*: Points trend upward from left to right, indicating that as one variable increases, the other variable also tends to increase.\n",
    "   - *Negative correlation*: Points trend downward from left to right, indicating that as one variable increases, the other variable tends to decrease.\n",
    "   - *No correlation*: Points appear to be scattered randomly with no apparent pattern, indicating that there is no clear relationship between the two variables.\n",
    "   - *Nonlinear relationships*: Points may form a curved pattern, suggesting that the relationship between the variables is not linear.\n",
    "\n",
    "4. **Outliers**: Scatterplots can help identify outliers, which are data points that fall far from the general pattern of the other points. Outliers can have a significant impact on the correlation coefficient and should be investigated further.\n",
    "\n",
    "5. **Limitations**: While scatterplots are useful for visualizing relationships between two variables, they do not provide information about the cause of the relationship or the influence of other variables on the relationship. Additionally, scatterplots may not be appropriate for categorical or ordinal variables.\n"
   ]
  },
  {
   "cell_type": "markdown",
   "metadata": {},
   "source": [
    "Here's an example of how to create a scatterplot using Python's Matplotlib library:\n"
   ]
  },
  {
   "cell_type": "code",
   "execution_count": 1,
   "metadata": {},
   "outputs": [
    {
     "data": {
      "image/png": "[encoded data removed]",
      "text/plain": [
       "<Figure size 600x400 with 1 Axes>"
      ]
     },
     "metadata": {},
     "output_type": "display_data"
    }
   ],
   "source": [
    "import matplotlib.pyplot as plt\n",
    "import numpy as np\n",
    "\n",
    "# Generate random data\n",
    "x = np.random.rand(50)\n",
    "y = 0.8 * x + 0.2 * np.random.rand(50)\n",
    "\n",
    "# Create a scatterplot\n",
    "plt.figure(figsize=(6, 4))\n",
    "plt.scatter(x, y, color='blue', alpha=0.6)\n",
    "plt.xlabel('Independent Variable')\n",
    "plt.ylabel('Dependent Variable')\n",
    "plt.title('Scatterplot Example')\n",
    "plt.grid(True)\n",
    "plt.show()"
   ]
  },
  {
   "cell_type": "markdown",
   "metadata": {},
   "source": [
    "This code generates a scatterplot with a positive correlation between the independent and dependent variables. The `alpha` parameter controls the transparency of the points, allowing for better visualization when there are many overlapping points."
   ]
  },
  {
   "cell_type": "markdown",
   "metadata": {},
   "source": [
    "## <a id='toc2_'></a>[Pearson's Correlation Coefficient](#toc0_)"
   ]
  },
  {
   "cell_type": "markdown",
   "metadata": {},
   "source": [
    "Pearson's correlation coefficient, denoted as $r$, is a measure of the linear relationship between two continuous variables. It was developed by Karl Pearson in the late 19th century and is one of the most widely used correlation coefficients. Pearson's correlation coefficient ranges from -1 to +1, where:\n",
    "\n",
    "- A value of +1 indicates a perfect positive linear relationship\n",
    "- A value of -1 indicates a perfect negative linear relationship\n",
    "- A value of 0 indicates no linear relationship\n"
   ]
  },
  {
   "cell_type": "markdown",
   "metadata": {},
   "source": [
    "It's important to note that Pearson's correlation coefficient only measures the strength and direction of a *linear* relationship between two variables. If the relationship is nonlinear, Pearson's correlation coefficient may not accurately capture the true nature of the relationship.\n"
   ]
  },
  {
   "cell_type": "markdown",
   "metadata": {},
   "source": [
    "### <a id='toc2_1_'></a>[(Optional) Calculating Pearson's Correlation Coefficient](#toc0_)"
   ]
  },
  {
   "cell_type": "markdown",
   "metadata": {},
   "source": [
    "The formula for Pearson's correlation coefficient is:\n",
    "\n",
    "$r = \\frac{\\sum_{i=1}^{n} (x_i - \\bar{x})(y_i - \\bar{y})}{\\sqrt{\\sum_{i=1}^{n} (x_i - \\bar{x})^2} \\sqrt{\\sum_{i=1}^{n} (y_i - \\bar{y})^2}}$\n",
    "\n",
    "where:\n",
    "- $x_i$ and $y_i$ are the individual values of the two variables\n",
    "- $\\bar{x}$ and $\\bar{y}$ are the means of the two variables\n",
    "- $n$ is the number of observations\n"
   ]
  },
  {
   "cell_type": "markdown",
   "metadata": {},
   "source": [
    "Let's calculate Pearson's correlation coefficient for a small dataset:\n",
    "\n",
    "```\n",
    "X = [1, 2, 3, 4, 5]\n",
    "Y = [2, 4, 6, 8, 10]\n",
    "```\n",
    "\n",
    "- Step 1: Calculate the means of X and Y.\n",
    "\n",
    "$\\bar{x} = \\frac{1 + 2 + 3 + 4 + 5}{5} = 3$\n",
    "$\\bar{y} = \\frac{2 + 4 + 6 + 8 + 10}{5} = 6$\n",
    "\n",
    "- Step 2: Calculate the deviations from the mean for each variable.\n",
    "\n",
    "$(x_i - \\bar{x}) = [-2, -1, 0, 1, 2]$\n",
    "$(y_i - \\bar{y}) = [-4, -2, 0, 2, 4]$\n",
    "\n",
    "- Step 3: Multiply the deviations for each pair of observations.\n",
    "\n",
    "$(x_i - \\bar{x})(y_i - \\bar{y}) = [8, 2, 0, 2, 8]$\n",
    "\n",
    "- Step 4: Sum the products of the deviations.\n",
    "\n",
    "$\\sum_{i=1}^{n} (x_i - \\bar{x})(y_i - \\bar{y}) = 8 + 2 + 0 + 2 + 8 = 20$\n",
    "\n",
    "- Step 5: Calculate the sum of squared deviations for each variable.\n",
    "\n",
    "$\\sum_{i=1}^{n} (x_i - \\bar{x})^2 = 4 + 1 + 0 + 1 + 4 = 10$\n",
    "$\\sum_{i=1}^{n} (y_i - \\bar{y})^2 = 16 + 4 + 0 + 4 + 16 = 40$\n",
    "\n",
    "- Step 6: Calculate Pearson's correlation coefficient.\n",
    "\n",
    "$r = \\frac{20}{\\sqrt{10} \\sqrt{40}} = \\frac{20}{20} = 1$\n",
    "\n",
    "In this example, the Pearson's correlation coefficient is 1, indicating a perfect positive linear relationship between variables X and Y.\n"
   ]
  },
  {
   "cell_type": "markdown",
   "metadata": {},
   "source": [
    "In Python, you can calculate Pearson's correlation coefficient using the `pearsonr` function from the `scipy.stats` module:\n"
   ]
  },
  {
   "cell_type": "code",
   "execution_count": 10,
   "metadata": {},
   "outputs": [
    {
     "name": "stdout",
     "output_type": "stream",
     "text": [
      "Pearson's correlation coefficient: 1.00\n"
     ]
    }
   ],
   "source": [
    "from scipy.stats import pearsonr\n",
    "\n",
    "x = [1, 2, 3, 4, 5]\n",
    "y = [2, 4, 6, 8, 10]\n",
    "\n",
    "r, _ = pearsonr(x, y)\n",
    "print(f\"Pearson's correlation coefficient: {r:.2f}\")"
   ]
  },
  {
   "cell_type": "markdown",
   "metadata": {},
   "source": [
    "### <a id='toc2_2_'></a>[Interpreting Pearson's Correlation Coefficient](#toc0_)\n"
   ]
  },
  {
   "cell_type": "markdown",
   "metadata": {},
   "source": [
    "Let's look at three examples of scatterplots and their corresponding Pearson's correlation coefficients:\n"
   ]
  },
  {
   "cell_type": "code",
   "execution_count": 8,
   "metadata": {},
   "outputs": [
    {
     "data": {
      "image/png": "[encoded data removed]",
      "text/plain": [
       "<Figure size 1500x500 with 3 Axes>"
      ]
     },
     "metadata": {},
     "output_type": "display_data"
    }
   ],
   "source": [
    "import numpy as np\n",
    "import matplotlib.pyplot as plt\n",
    "from scipy.stats import pearsonr\n",
    "\n",
    "# Generate data for negative, no correlation, and positive correlation\n",
    "neg_corr = np.random.multivariate_normal([0, 0], [[1, -0.8], [-0.8, 1]], size=100)\n",
    "no_corr = np.random.multivariate_normal([0, 0], [[1, 0], [0, 1]], size=100)\n",
    "pos_corr = np.random.multivariate_normal([0, 0], [[1, 0.8], [0.8, 1]], size=100)\n",
    "\n",
    "# Create subplots\n",
    "fig, axs = plt.subplots(1, 3, figsize=(15, 5))\n",
    "\n",
    "# Plot negative correlation\n",
    "axs[0].scatter(neg_corr[:, 0], neg_corr[:, 1])\n",
    "axs[0].set_title(\"Negative Correlation\")\n",
    "r_neg, _ = pearsonr(neg_corr[:, 0], neg_corr[:, 1])\n",
    "axs[0].text(0.05, 0.95, f\"r = {r_neg:.2f}\", transform=axs[0].transAxes, fontsize=16, fontweight='bold', verticalalignment='top')\n",
    "\n",
    "# Plot no correlation\n",
    "axs[1].scatter(no_corr[:, 0], no_corr[:, 1])\n",
    "axs[1].set_title(\"No Correlation\")\n",
    "r_no, _ = pearsonr(no_corr[:, 0], no_corr[:, 1])\n",
    "axs[1].text(0.05, 0.95, f\"r = {r_no:.2f}\", transform=axs[1].transAxes, fontsize=16, fontweight='bold', verticalalignment='top')\n",
    "\n",
    "# Plot positive correlation\n",
    "axs[2].scatter(pos_corr[:, 0], pos_corr[:, 1])\n",
    "axs[2].set_title(\"Positive Correlation\")\n",
    "r_pos, _ = pearsonr(pos_corr[:, 0], pos_corr[:, 1])\n",
    "axs[2].text(0.05, 0.95, f\"r = {r_pos:.2f}\", transform=axs[2].transAxes, fontsize=16, fontweight='bold', verticalalignment='top')\n",
    "\n",
    "plt.tight_layout()\n",
    "plt.show()"
   ]
  },
  {
   "cell_type": "markdown",
   "metadata": {},
   "source": [
    "In this example, we generate three sets of data: one with a negative correlation, one with no correlation, and one with a positive correlation. We then create a subplot with three scatterplots, each representing one of the generated datasets. The Pearson's correlation coefficient is calculated for each dataset using the `pearsonr` function from the `scipy.stats` module and displayed on the corresponding subplot.\n"
   ]
  },
  {
   "cell_type": "markdown",
   "metadata": {},
   "source": [
    "The resulting scatterplots and their correlation coefficients demonstrate the different types of linear relationships:\n",
    "\n",
    "1. **Negative correlation**: The points in the scatterplot trend downward from left to right, indicating that as one variable increases, the other tends to decrease. The correlation coefficient is negative (e.g., r = -0.78).\n",
    "\n",
    "2. **No correlation**: The points in the scatterplot appear to be scattered randomly with no apparent pattern, indicating that there is no clear linear relationship between the two variables. The correlation coefficient is close to zero (e.g., r = 0.03).\n",
    "\n",
    "3. **Positive correlation**: The points in the scatterplot trend upward from left to right, indicating that as one variable increases, the other also tends to increase. The correlation coefficient is positive (e.g., r = 0.82).\n"
   ]
  },
  {
   "cell_type": "markdown",
   "metadata": {},
   "source": [
    "<img src=\"./images/types-of-correlation.png\" width=\"800\">"
   ]
  },
  {
   "cell_type": "markdown",
   "metadata": {},
   "source": [
    "These examples illustrate how Pearson's correlation coefficient quantifies the strength and direction of the linear relationship between two variables.\n"
   ]
  },
  {
   "cell_type": "markdown",
   "metadata": {},
   "source": [
    "When interpreting Pearson's correlation coefficient, consider the following guidelines:\n",
    "\n",
    "1. **Strength of the relationship**: The absolute value of the correlation coefficient indicates the strength of the linear relationship. A value closer to 1 (either +1 or -1) indicates a stronger linear relationship, while a value closer to 0 indicates a weaker linear relationship.\n",
    "\n",
    "2. **Direction of the relationship**: The sign of the correlation coefficient indicates the direction of the linear relationship. A positive value indicates a positive relationship (as one variable increases, the other tends to increase), while a negative value indicates a negative relationship (as one variable increases, the other tends to decrease).\n",
    "\n",
    "3. **Statistical significance**: The p-value associated with the correlation coefficient indicates whether the observed correlation is statistically significant. A small p-value (typically less than 0.05) suggests that the correlation is unlikely to have occurred by chance and that there is a significant linear relationship between the variables.\n",
    "\n",
    "4. **Limitations**: Pearson's correlation coefficient has some limitations:\n",
    "   - It only measures linear relationships. If the relationship is nonlinear, the coefficient may not accurately reflect the true nature of the relationship.\n",
    "   - It is sensitive to outliers, which can greatly influence the value of the coefficient.\n",
    "   - It does not imply causation. A strong correlation between two variables does not necessarily mean that one variable causes the other.\n"
   ]
  },
  {
   "cell_type": "markdown",
   "metadata": {},
   "source": [
    "When reporting Pearson's correlation coefficient, it is essential to include the coefficient value, the p-value, and the sample size. For example:\n",
    "\n",
    "\"There was a strong positive correlation between variables X and Y (r = 0.85, p < 0.001, n = 100)."
   ]
  },
  {
   "cell_type": "markdown",
   "metadata": {},
   "source": [
    "## <a id='toc3_'></a>[(Optional) Spearman's Rank Correlation Coefficient](#toc0_)"
   ]
  },
  {
   "cell_type": "markdown",
   "metadata": {},
   "source": [
    "Spearman's rank correlation coefficient, denoted as $r_s$ or $\\rho$, is a nonparametric measure of the monotonic relationship between two variables. It assesses how well the relationship between two variables can be described using a monotonic function. Spearman's rank correlation coefficient is often used when the data has outliers, is not normally distributed, or when the relationship between the variables is not linear.\n"
   ]
  },
  {
   "cell_type": "markdown",
   "metadata": {},
   "source": [
    "Spearman's rank correlation coefficient ranges from -1 to +1, where:\n",
    "\n",
    "- A value of +1 indicates a perfect positive monotonic relationship\n",
    "- A value of -1 indicates a perfect negative monotonic relationship\n",
    "- A value of 0 indicates no monotonic relationship\n"
   ]
  },
  {
   "cell_type": "markdown",
   "metadata": {},
   "source": [
    "### <a id='toc3_1_'></a>[Calculating Spearman's Rank Correlation Coefficient](#toc0_)\n"
   ]
  },
  {
   "cell_type": "markdown",
   "metadata": {},
   "source": [
    "To calculate Spearman's rank correlation coefficient, we first rank the data for each variable separately. Ties are assigned the average rank of the tied values. The formula for Spearman's rank correlation coefficient is:\n",
    "\n",
    "$r_s = 1 - \\frac{6 \\sum_{i=1}^{n} d_i^2}{n(n^2 - 1)}$\n",
    "\n",
    "where:\n",
    "- $d_i$ is the difference between the ranks of the $i$-th pair of values\n",
    "- $n$ is the number of observations\n"
   ]
  },
  {
   "cell_type": "markdown",
   "metadata": {},
   "source": [
    "Let's calculate Spearman's rank correlation coefficient for a small dataset:\n",
    "\n",
    "```\n",
    "X = [1, 2, 3, 4, 5]\n",
    "Y = [2, 4, 6, 8, 10]\n",
    "```\n"
   ]
  },
  {
   "cell_type": "markdown",
   "metadata": {},
   "source": [
    "- Step 1: Rank the data for each variable.\n",
    "\n",
    "$X_{ranks} = [1, 2, 3, 4, 5]$\n",
    "$Y_{ranks} = [1, 2, 3, 4, 5]$\n",
    "\n",
    "- Step 2: Calculate the differences between the ranks for each pair of observations.\n",
    "\n",
    "$d_i = [0, 0, 0, 0, 0]$\n",
    "\n",
    "- Step 3: Square the differences.\n",
    "\n",
    "$d_i^2 = [0, 0, 0, 0, 0]$\n",
    "\n",
    "- Step 4: Sum the squared differences.\n",
    "\n",
    "$\\sum_{i=1}^{n} d_i^2 = 0$\n",
    "\n",
    "- Step 5: Calculate Spearman's rank correlation coefficient.\n",
    "\n",
    "$r_s = 1 - \\frac{6 \\times 0}{5(5^2 - 1)} = 1$\n",
    "\n",
    "In this example, Spearman's rank correlation coefficient is 1, indicating a perfect positive monotonic relationship between variables X and Y.\n"
   ]
  },
  {
   "cell_type": "markdown",
   "metadata": {},
   "source": [
    "In Python, you can calculate Spearman's rank correlation coefficient using the `spearmanr` function from the `scipy.stats` module:\n"
   ]
  },
  {
   "cell_type": "code",
   "execution_count": 12,
   "metadata": {},
   "outputs": [
    {
     "name": "stdout",
     "output_type": "stream",
     "text": [
      "Spearman's rank correlation coefficient: 1.00\n"
     ]
    }
   ],
   "source": [
    "from scipy.stats import spearmanr\n",
    "\n",
    "x = [1, 2, 3, 4, 5]\n",
    "y = [2, 4, 6, 8, 10]\n",
    "\n",
    "r_s, _ = spearmanr(x, y)\n",
    "print(f\"Spearman's rank correlation coefficient: {r_s:.2f}\")"
   ]
  },
  {
   "cell_type": "markdown",
   "metadata": {},
   "source": [
    "### <a id='toc3_2_'></a>[Interpreting Spearman's Rank Correlation Coefficient](#toc0_)\n"
   ]
  },
  {
   "cell_type": "markdown",
   "metadata": {},
   "source": [
    "When interpreting Spearman's rank correlation coefficient, consider the following guidelines:\n",
    "\n",
    "1. **Strength of the relationship**: The absolute value of the correlation coefficient indicates the strength of the monotonic relationship. A value closer to 1 (either +1 or -1) indicates a stronger monotonic relationship, while a value closer to 0 indicates a weaker monotonic relationship.\n",
    "\n",
    "2. **Direction of the relationship**: The sign of the correlation coefficient indicates the direction of the monotonic relationship. A positive value indicates a positive monotonic relationship (as one variable increases, the other tends to increase), while a negative value indicates a negative monotonic relationship (as one variable increases, the other tends to decrease).\n",
    "\n",
    "3. **Statistical significance**: The p-value associated with the correlation coefficient indicates whether the observed correlation is statistically significant. A small p-value (typically less than 0.05) suggests that the correlation is unlikely to have occurred by chance and that there is a significant monotonic relationship between the variables.\n",
    "\n",
    "4. **Limitations**: Spearman's rank correlation coefficient has some limitations:\n",
    "   - It only measures monotonic relationships. If the relationship is non-monotonic, the coefficient may not accurately reflect the true nature of the relationship.\n",
    "   - It does not provide information about the magnitude of the differences between the ranks.\n",
    "   - It does not imply causation. A strong correlation between two variables does not necessarily mean that one variable causes the other.\n"
   ]
  },
  {
   "cell_type": "markdown",
   "metadata": {},
   "source": [
    "When reporting Spearman's rank correlation coefficient, it is essential to include the coefficient value, the p-value, and the sample size. For example:\n"
   ]
  },
  {
   "cell_type": "markdown",
   "metadata": {},
   "source": [
    "\"There was a strong positive monotonic relationship between variables X and Y (Spearman's rho = 0.87, p < 0.001, n = 100).\""
   ]
  },
  {
   "cell_type": "markdown",
   "metadata": {},
   "source": [
    "## <a id='toc4_'></a>[Correlation vs. Causation](#toc0_)"
   ]
  },
  {
   "cell_type": "markdown",
   "metadata": {},
   "source": [
    "When working with correlations, it is crucial to understand the difference between correlation and causation. Correlation refers to the statistical relationship between two variables, while causation implies that one variable directly causes changes in the other variable. A common phrase in statistics is \"correlation does not imply causation,\" which means that just because two variables are correlated does not necessarily mean that one causes the other.\n"
   ]
  },
  {
   "cell_type": "markdown",
   "metadata": {},
   "source": [
    "### <a id='toc4_1_'></a>[Examples of Correlation without Causation](#toc0_)\n"
   ]
  },
  {
   "cell_type": "markdown",
   "metadata": {},
   "source": [
    "1. **Ice cream sales and shark attacks**: There may be a positive correlation between ice cream sales and shark attacks, but this does not mean that ice cream sales cause shark attacks or vice versa. In this case, a third variable, such as summer weather, is likely causing both ice cream sales and shark attacks to increase.\n",
    "\n",
    "2. **Shoe size and reading ability**: There may be a positive correlation between shoe size and reading ability in children, but this does not mean that larger shoe sizes cause better reading ability. In this case, the third variable is age. As children grow older, both their shoe size and reading ability tend to increase.\n"
   ]
  },
  {
   "cell_type": "markdown",
   "metadata": {},
   "source": [
    "<img src=\"../01 Introduction/images/confounding-variable.png\" width=\"800\">"
   ]
  },
  {
   "cell_type": "markdown",
   "metadata": {},
   "source": [
    "### <a id='toc4_2_'></a>[Determining Causation](#toc0_)\n"
   ]
  },
  {
   "cell_type": "markdown",
   "metadata": {},
   "source": [
    "To establish causation, researchers must conduct carefully designed experiments or studies that control for potential confounding variables. These studies should meet the following criteria:\n",
    "\n",
    "1. **Temporal precedence**: The cause must precede the effect in time. In other words, the variable that is thought to be the cause must occur before the variable that is thought to be the effect.\n",
    "\n",
    "2. **Covariation**: The cause and effect must vary together. When the cause is present, the effect should also be present, and when the cause is absent, the effect should be absent as well.\n",
    "\n",
    "3. **No plausible alternative explanations**: There should be no other variables that could explain the relationship between the cause and effect. This is often achieved through random assignment, control groups, and statistical techniques that adjust for potential confounding variables.\n"
   ]
  },
  {
   "cell_type": "markdown",
   "metadata": {},
   "source": [
    "<img src=\"./images/control-groups-in-research.webp\" width=\"800\">"
   ]
  },
  {
   "cell_type": "markdown",
   "metadata": {},
   "source": [
    "### <a id='toc4_3_'></a>[Real-world Examples](#toc0_)\n"
   ]
  },
  {
   "cell_type": "markdown",
   "metadata": {},
   "source": [
    "1. **Smoking and lung cancer**: Through carefully designed studies and experiments, researchers have established a causal relationship between smoking and lung cancer. These studies have shown that smoking precedes the development of lung cancer, that the risk of lung cancer increases with the amount and duration of smoking, and that other potential confounding variables (such as age, gender, and air pollution) cannot fully explain the relationship between smoking and lung cancer.\n",
    "\n",
    "2. **Education and income**: While there is a strong positive correlation between education level and income, it is difficult to establish a clear causal relationship. Other factors, such as family background, innate abilities, and job market conditions, may also play a role in determining income. To establish causation, researchers would need to conduct experiments or quasi-experiments that control for these potential confounding variables.\n"
   ]
  },
  {
   "cell_type": "markdown",
   "metadata": {},
   "source": [
    "In conclusion, it is essential to remember that correlation does not imply causation. When interpreting correlations, one must be cautious not to assume a causal relationship without further evidence from well-designed experiments or studies. Confusing correlation with causation can lead to misinterpretations of data and faulty decision-making."
   ]
  }
 ],
 "metadata": {
  "kernelspec": {
   "display_name": "py310",
   "language": "python",
   "name": "python3"
  },
  "language_info": {
   "codemirror_mode": {
    "name": "ipython",
    "version": 3
   },
   "file_extension": ".py",
   "mimetype": "text/x-python",
   "name": "python",
   "nbconvert_exporter": "python",
   "pygments_lexer": "ipython3",
   "version": "3.10.12"
  }
 },
 "nbformat": 4,
 "nbformat_minor": 2
}
