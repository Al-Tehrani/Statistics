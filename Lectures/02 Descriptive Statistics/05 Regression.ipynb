{
 "cells": [
  {
   "cell_type": "markdown",
   "metadata": {},
   "source": [
    "<img src=\"./images/banner.png\" width=\"800\">"
   ]
  },
  {
   "cell_type": "markdown",
   "metadata": {},
   "source": [
    "# Introduction to Regression and Least Squares"
   ]
  },
  {
   "cell_type": "markdown",
   "metadata": {},
   "source": [
    "In the previous lecture, we explored the concept of correlation, which measures the strength and direction of the linear relationship between two variables. **Regression** takes this idea a step further by allowing us to use the relationship between variables to make predictions.\n"
   ]
  },
  {
   "cell_type": "markdown",
   "metadata": {},
   "source": [
    "<img src=\"./images/regression-correlation.png\" width=\"800\">"
   ]
  },
  {
   "cell_type": "markdown",
   "metadata": {},
   "source": [
    "**Regression analysis** is a statistical method that examines the relationship between a dependent variable (also called the response variable) and one or more independent variables (also called predictor variables or explanatory variables). The purpose of regression analysis is to model the relationship between these variables and use the model to make predictions or inferences about the dependent variable based on the values of the independent variables.\n"
   ]
  },
  {
   "cell_type": "markdown",
   "metadata": {},
   "source": [
    "Regression has numerous applications across various fields, including:\n",
    "- Economics: Predicting economic growth, stock prices, or housing prices based on relevant factors.\n",
    "- Social Sciences: Examining the impact of education, income, or other socioeconomic factors on various outcomes.\n",
    "- Medicine: Investigating the effectiveness of treatments or the relationship between risk factors and diseases.\n",
    "- Business: Forecasting sales, analyzing customer behavior, or optimizing pricing strategies.\n"
   ]
  },
  {
   "cell_type": "markdown",
   "metadata": {},
   "source": [
    "There are several types of regression, but in this lecture, we will focus on two main types:\n",
    "\n",
    "1. **Simple Linear Regression**: This type of regression involves one independent variable and one dependent variable. The relationship between the variables is modeled using a straight line, which is called the regression line. The equation for a simple linear regression is:\n",
    "\n",
    "   $y = \\beta_0 + \\beta_1x + \\epsilon$\n",
    "\n",
    "   where:\n",
    "   - $y$ is the dependent variable\n",
    "   - $x$ is the independent variable\n",
    "   - $\\beta_0$ is the y-intercept (the value of y when x is 0)\n",
    "   - $\\beta_1$ is the slope (the change in y for a one-unit increase in x)\n",
    "   - $\\epsilon$ is the error term (the difference between the observed and predicted values of y)\n",
    "\n",
    "2. **Multiple Regression**: This type of regression involves one dependent variable and two or more independent variables. The relationship between the variables is modeled using a plane or hyperplane, depending on the number of independent variables. The equation for a multiple regression with two independent variables is:\n",
    "\n",
    "   $y = \\beta_0 + \\beta_1x_1 + \\beta_2x_2 + \\epsilon$\n",
    "\n",
    "   where:\n",
    "   - $y$ is the dependent variable\n",
    "   - $x_1$ and $x_2$ are the independent variables\n",
    "   - $\\beta_0$ is the y-intercept\n",
    "   - $\\beta_1$ and $\\beta_2$ are the slopes for $x_1$ and $x_2$, respectively\n",
    "   - $\\epsilon$ is the error term\n"
   ]
  },
  {
   "cell_type": "markdown",
   "metadata": {},
   "source": [
    "In the following sections, we will dive deeper into simple linear regression and learn how to find the best-fitting line using the least squares method."
   ]
  },
  {
   "cell_type": "markdown",
   "metadata": {},
   "source": [
    "**Table of contents**<a id='toc0_'></a>    \n",
    "- [The Regression Line](#toc1_)    \n",
    "  - [Concept of the Regression Line](#toc1_1_)    \n",
    "  - [Slope and Y-Intercept of the Regression Line](#toc1_2_)    \n",
    "  - [Interpreting the Regression Line](#toc1_3_)    \n",
    "- [Least Squares Regression](#toc2_)    \n",
    "  - [The Least Squares Method](#toc2_1_)    \n",
    "  - [Finding the Least Squares Regression Line](#toc2_2_)    \n",
    "  - [Example: Finding the Least Squares Regression Line](#toc2_3_)    \n",
    "  - [The Least Squares Regression Equation](#toc2_4_)    \n",
    "- [Assumptions of Regression](#toc3_)    \n",
    "  - [Linearity Assumption](#toc3_1_)    \n",
    "  - [Homoscedasticity Assumption](#toc3_2_)    \n",
    "- [Summary](#toc4_)    \n",
    "\n",
    "<!-- vscode-jupyter-toc-config\n",
    "\tnumbering=false\n",
    "\tanchor=true\n",
    "\tflat=false\n",
    "\tminLevel=2\n",
    "\tmaxLevel=6\n",
    "\t/vscode-jupyter-toc-config -->\n",
    "<!-- THIS CELL WILL BE REPLACED ON TOC UPDATE. DO NOT WRITE YOUR TEXT IN THIS CELL -->"
   ]
  },
  {
   "cell_type": "markdown",
   "metadata": {},
   "source": [
    "## <a id='toc1_'></a>[The Regression Line](#toc0_)"
   ]
  },
  {
   "cell_type": "markdown",
   "metadata": {},
   "source": [
    "In simple linear regression, the relationship between the independent variable (x) and the dependent variable (y) is modeled using a straight line, called the **regression line**. The regression line is the line that best fits the data points in a scatterplot, minimizing the differences between the observed values and the values predicted by the line.\n"
   ]
  },
  {
   "cell_type": "markdown",
   "metadata": {},
   "source": [
    "### <a id='toc1_1_'></a>[Concept of the Regression Line](#toc0_)\n"
   ]
  },
  {
   "cell_type": "markdown",
   "metadata": {},
   "source": [
    "The regression line is a mathematical representation of the linear relationship between two variables. It is defined by the equation:\n",
    "\n",
    "$y = \\beta_0 + \\beta_1x$\n",
    "\n",
    "where:\n",
    "- $y$ is the dependent variable\n",
    "- $x$ is the independent variable\n",
    "- $\\beta_0$ is the y-intercept (the value of y when x is 0)\n",
    "- $\\beta_1$ is the slope (the change in y for a one-unit increase in x)\n"
   ]
  },
  {
   "cell_type": "markdown",
   "metadata": {},
   "source": [
    "The goal of regression analysis is to find the values of $\\beta_0$ and $\\beta_1$ that best describe the relationship between the variables.\n"
   ]
  },
  {
   "cell_type": "markdown",
   "metadata": {},
   "source": [
    "### <a id='toc1_2_'></a>[Slope and Y-Intercept of the Regression Line](#toc0_)\n"
   ]
  },
  {
   "cell_type": "markdown",
   "metadata": {},
   "source": [
    "The regression line is characterized by two important parameters: the slope and the y-intercept.\n",
    "\n",
    "1. **Slope** ($\\beta_1$): The slope represents the change in the dependent variable (y) for a one-unit increase in the independent variable (x). A positive slope indicates a positive relationship between the variables, while a negative slope indicates a negative relationship. The magnitude of the slope reflects the strength of the relationship.\n",
    "\n",
    "2. **Y-Intercept** ($\\beta_0$): The y-intercept is the value of the dependent variable (y) when the independent variable (x) is equal to zero. It represents the point where the regression line intersects the y-axis."
   ]
  },
  {
   "cell_type": "markdown",
   "metadata": {},
   "source": [
    "<img src=\"./images/y-intercept-slope.png\" width=\"800\">"
   ]
  },
  {
   "cell_type": "markdown",
   "metadata": {},
   "source": [
    "### <a id='toc1_3_'></a>[Interpreting the Regression Line](#toc0_)"
   ]
  },
  {
   "cell_type": "markdown",
   "metadata": {},
   "source": [
    "\n",
    "The regression line provides valuable information about the relationship between the variables and can be used to make predictions. Here are some key aspects to consider when interpreting the regression line:\n",
    "\n",
    "1. **Direction of the Relationship**: The sign of the slope indicates the direction of the relationship between the variables. A positive slope suggests a positive relationship, meaning that as x increases, y tends to increase. A negative slope suggests a negative relationship, meaning that as x increases, y tends to decrease.\n",
    "\n",
    "2. **Strength of the Relationship**: The magnitude of the slope indicates the strength of the relationship between the variables. A larger absolute value of the slope implies a stronger relationship, while a slope closer to zero implies a weaker relationship.\n",
    "\n",
    "3. **Predictions**: The regression line can be used to make predictions about the dependent variable (y) based on the values of the independent variable (x). By plugging in a specific value of x into the regression equation, you can estimate the corresponding value of y.\n",
    "\n",
    "4. **Extrapolation**: While the regression line can be used to make predictions within the range of observed data, it is important to be cautious when extrapolating beyond the range of the data. Extrapolation assumes that the linear relationship continues beyond the observed range, which may not always be the case.\n"
   ]
  },
  {
   "cell_type": "markdown",
   "metadata": {},
   "source": [
    "In the next section, we will explore how to find the best-fitting regression line using the least squares method."
   ]
  },
  {
   "cell_type": "markdown",
   "metadata": {},
   "source": [
    "## <a id='toc2_'></a>[Least Squares Regression](#toc0_)"
   ]
  },
  {
   "cell_type": "markdown",
   "metadata": {},
   "source": [
    "In the previous section, we discussed the concept of the regression line and its importance in modeling the relationship between two variables. Now, we will explore the most common method for finding the best-fitting regression line: the least squares method.\n"
   ]
  },
  {
   "cell_type": "markdown",
   "metadata": {},
   "source": [
    "### <a id='toc2_1_'></a>[The Least Squares Method](#toc0_)\n"
   ]
  },
  {
   "cell_type": "markdown",
   "metadata": {},
   "source": [
    "The least squares method is a statistical approach that aims to minimize the sum of the squared differences between the observed values of the dependent variable (y) and the values predicted by the regression line. These differences are called residuals or errors.\n"
   ]
  },
  {
   "cell_type": "markdown",
   "metadata": {},
   "source": [
    "Mathematically, the least squares method seeks to minimize the following sum:\n",
    "\n",
    "$\\sum_{i=1}^{n} (y_i - \\hat{y}_i)^2$\n",
    "\n",
    "where:\n",
    "- $y_i$ is the observed value of the dependent variable for the i-th observation\n",
    "- $\\hat{y}_i$ is the predicted value of the dependent variable for the i-th observation, given by the regression line\n",
    "- $n$ is the total number of observations\n"
   ]
  },
  {
   "cell_type": "markdown",
   "metadata": {},
   "source": [
    "<img src=\"./images/error.png\" width=\"800\">"
   ]
  },
  {
   "cell_type": "markdown",
   "metadata": {},
   "source": [
    "By minimizing this sum, the least squares method finds the regression line that best fits the data.\n"
   ]
  },
  {
   "cell_type": "markdown",
   "metadata": {},
   "source": [
    "### <a id='toc2_2_'></a>[Finding the Least Squares Regression Line](#toc0_)\n"
   ]
  },
  {
   "cell_type": "markdown",
   "metadata": {},
   "source": [
    "To find the least squares regression line, we need to determine the values of the slope ($\\beta_1$) and the y-intercept ($\\beta_0$) that minimize the sum of squared residuals. The formulas for calculating these values are:\n",
    "\n",
    "$\\beta_1 = \\frac{\\sum_{i=1}^{n} (x_i - \\bar{x})(y_i - \\bar{y})}{\\sum_{i=1}^{n} (x_i - \\bar{x})^2}$\n",
    "\n",
    "$\\beta_0 = \\bar{y} - \\beta_1 \\bar{x}$\n",
    "\n",
    "where:\n",
    "- $x_i$ is the value of the independent variable for the i-th observation\n",
    "- $y_i$ is the value of the dependent variable for the i-th observation\n",
    "- $\\bar{x}$ is the mean of the independent variable\n",
    "- $\\bar{y}$ is the mean of the dependent variable\n",
    "- $n$ is the total number of observations\n"
   ]
  },
  {
   "cell_type": "markdown",
   "metadata": {},
   "source": [
    "### <a id='toc2_3_'></a>[Example: Finding the Least Squares Regression Line](#toc0_)\n"
   ]
  },
  {
   "cell_type": "markdown",
   "metadata": {},
   "source": [
    "Suppose we have the following data on the number of hours studied (x) and the corresponding exam scores (y) for a group of 10 students:\n",
    "\n",
    "| Hours Studied (x) | Exam Score (y) |\n",
    "|-------------------|----------------|\n",
    "| 2.5               | 58             |\n",
    "| 3.2               | 67             |\n",
    "| 4.1               | 73             |\n",
    "| 5.0               | 78             |\n",
    "| 5.8               | 85             |\n",
    "| 6.7               | 88             |\n",
    "| 7.4               | 91             |\n",
    "| 8.2               | 96             |\n",
    "| 9.1               | 99             |\n",
    "| 9.9               | 102            |\n"
   ]
  },
  {
   "cell_type": "markdown",
   "metadata": {},
   "source": [
    "To find the least squares regression line, we can use Python and the `numpy` library to perform the calculations:"
   ]
  },
  {
   "cell_type": "code",
   "execution_count": 3,
   "metadata": {},
   "outputs": [
    {
     "name": "stdout",
     "output_type": "stream",
     "text": [
      "Slope (beta_1): 5.69\n",
      "Y-intercept (beta_0): 48.46\n"
     ]
    },
    {
     "data": {
      "image/png": "[encoded data removed]",
      "text/plain": [
       "<Figure size 800x600 with 1 Axes>"
      ]
     },
     "metadata": {},
     "output_type": "display_data"
    }
   ],
   "source": [
    "import numpy as np\n",
    "import matplotlib.pyplot as plt\n",
    "\n",
    "x = np.array([2.5, 3.2, 4.1, 5.0, 5.8, 6.7, 7.4, 8.2, 9.1, 9.9])\n",
    "y = np.array([58, 67, 73, 78, 85, 88, 91, 96, 99, 102])\n",
    "\n",
    "n = len(x)\n",
    "x_mean = np.mean(x)\n",
    "y_mean = np.mean(y)\n",
    "\n",
    "beta_1 = np.sum((x - x_mean) * (y - y_mean)) / np.sum((x - x_mean) ** 2)\n",
    "beta_0 = y_mean - beta_1 * x_mean\n",
    "\n",
    "print(f\"Slope (beta_1): {beta_1:.2f}\")\n",
    "print(f\"Y-intercept (beta_0): {beta_0:.2f}\")\n",
    "\n",
    "# Plotting the regression line\n",
    "plt.figure(figsize=(8, 6))\n",
    "plt.scatter(x, y, color='blue', label='Data points')\n",
    "plt.plot(x, beta_0 + beta_1 * x, color='red', label='Regression line')\n",
    "plt.xlabel('Hours Studied')\n",
    "plt.ylabel('Exam Score')\n",
    "plt.title('Least Squares Regression Line')\n",
    "plt.legend()\n",
    "plt.show()"
   ]
  },
  {
   "cell_type": "markdown",
   "metadata": {},
   "source": [
    "The least squares regression line for this data is:\n",
    "\n",
    "$\\hat{y} = 48.46 + 5.69x$"
   ]
  },
  {
   "cell_type": "markdown",
   "metadata": {},
   "source": [
    "This equation can be used to predict exam scores based on the number of hours studied. However, as the data points do not fall perfectly on the regression line, there will be some prediction errors.\n"
   ]
  },
  {
   "cell_type": "markdown",
   "metadata": {},
   "source": [
    "For example, if a student studies for 7 hours, the predicted exam score can be calculated as:\n",
    "\n",
    "- Hours Studied: 7\n",
    "- Predicted Exam Score (y) = 48.46 + 5.69 * 7 = 88.29"
   ]
  },
  {
   "cell_type": "markdown",
   "metadata": {},
   "source": [
    "### <a id='toc2_4_'></a>[The Least Squares Regression Equation](#toc0_)\n"
   ]
  },
  {
   "cell_type": "markdown",
   "metadata": {},
   "source": [
    "Once we have calculated the values of $\\beta_1$ (slope) and $\\beta_0$ (y-intercept), we can write the least squares regression equation:\n",
    "\n",
    "$\\hat{y} = \\beta_0 + \\beta_1x$\n",
    "\n",
    "where:\n",
    "- $\\hat{y}$ is the predicted value of the dependent variable\n",
    "- $x$ is the value of the independent variable\n",
    "- $\\beta_0$ is the y-intercept\n",
    "- $\\beta_1$ is the slope\n"
   ]
  },
  {
   "cell_type": "markdown",
   "metadata": {},
   "source": [
    "This equation allows us to estimate the value of the dependent variable (y) for any given value of the independent variable (x), based on the least squares regression line.\n"
   ]
  },
  {
   "cell_type": "markdown",
   "metadata": {},
   "source": [
    "In the next section, we will discuss how to use the least squares regression equation to make predictions and interpret the results."
   ]
  },
  {
   "cell_type": "markdown",
   "metadata": {},
   "source": [
    "## <a id='toc3_'></a>[Assumptions of Regression](#toc0_)"
   ]
  },
  {
   "cell_type": "markdown",
   "metadata": {},
   "source": [
    "\n",
    "When using regression analysis, it is important to be aware of the underlying assumptions that must be met to ensure the validity of the results. In this section, we will discuss two key assumptions: linearity and homoscedasticity.\n"
   ]
  },
  {
   "cell_type": "markdown",
   "metadata": {},
   "source": [
    "\n",
    "### <a id='toc3_1_'></a>[Linearity Assumption](#toc0_)\n"
   ]
  },
  {
   "cell_type": "markdown",
   "metadata": {},
   "source": [
    "\n",
    "The linearity assumption states that the relationship between the independent variable (x) and the dependent variable (y) should be linear. In other words, the change in y should be proportional to the change in x.\n"
   ]
  },
  {
   "cell_type": "markdown",
   "metadata": {},
   "source": [
    "\n",
    "One way to check for linearity is to create a scatterplot of the data points. If the relationship between x and y appears to be linear, the data points should roughly follow a straight line. If the data points seem to follow a curved pattern or any other non-linear shape, the linearity assumption may be violated.\n"
   ]
  },
  {
   "cell_type": "markdown",
   "metadata": {},
   "source": [
    "\n",
    "**If the linearity assumption is violated, the regression model may not accurately represent the relationship between the variables**. This can lead to biased estimates of the coefficients, incorrect predictions, and misleading interpretations of the results.\n"
   ]
  },
  {
   "cell_type": "markdown",
   "metadata": {},
   "source": [
    "\n",
    "When the linearity assumption is violated, alternative regression techniques, such as polynomial regression or generalized additive models, may be more appropriate to capture the non-linear relationship between the variables.\n"
   ]
  },
  {
   "cell_type": "markdown",
   "metadata": {},
   "source": [
    "\n",
    "### <a id='toc3_2_'></a>[(Optional) Homoscedasticity Assumption](#toc0_)\n"
   ]
  },
  {
   "cell_type": "markdown",
   "metadata": {},
   "source": [
    "\n",
    "Homoscedasticity, also known as homogeneity of variance, is the assumption that the variability of the residuals (the differences between the observed and predicted values) is constant across all levels of the independent variable.\n"
   ]
  },
  {
   "cell_type": "markdown",
   "metadata": {},
   "source": [
    "\n",
    "In a regression context, homoscedasticity means that the spread of the residuals should be roughly the same for all predicted values of y. In other words, the variance of the residuals should not depend on the value of x.\n"
   ]
  },
  {
   "cell_type": "markdown",
   "metadata": {},
   "source": [
    "\n",
    "**Violations of homoscedasticity, known as heteroscedasticity, can be identified by examining a scatterplot of the residuals against the predicted values of y**. If the spread of the residuals appears to be different for different predicted values, it may indicate the presence of heteroscedasticity.\n"
   ]
  },
  {
   "cell_type": "markdown",
   "metadata": {},
   "source": [
    "\n",
    "Common patterns of heteroscedasticity include:\n",
    "- The spread of the residuals increases or decreases as the predicted values increase\n",
    "- The residuals form a funnel or fan shape\n",
    "- The residuals show distinct clusters or patterns\n"
   ]
  },
  {
   "cell_type": "markdown",
   "metadata": {},
   "source": [
    "\n",
    "**When the homoscedasticity assumption is violated, the least squares regression estimates are still unbiased, but they may not be the most efficient or reliable**. The standard errors of the coefficients may be incorrect, leading to invalid hypothesis tests and confidence intervals.\n"
   ]
  },
  {
   "cell_type": "markdown",
   "metadata": {},
   "source": [
    "\n",
    "In the presence of heteroscedasticity, alternative estimation methods, such as weighted least squares or robust regression, may be used to account for the unequal variances of the residuals.\n"
   ]
  },
  {
   "cell_type": "markdown",
   "metadata": {},
   "source": [
    "\n",
    "It is important to note that even if the linearity and homoscedasticity assumptions are violated, the regression model can still be useful for describing the general relationship between the variables. However, the results should be interpreted with caution, and alternative models or estimation methods should be considered when appropriate.\n"
   ]
  },
  {
   "cell_type": "markdown",
   "metadata": {},
   "source": [
    "\n",
    "In the next section, we will recap the key points covered in this lecture and preview the next lecture on evaluating the accuracy of regression predictions."
   ]
  },
  {
   "cell_type": "markdown",
   "metadata": {},
   "source": [
    "## <a id='toc4_'></a>[Summary](#toc0_)"
   ]
  },
  {
   "cell_type": "markdown",
   "metadata": {},
   "source": [
    "In this lecture, we have covered the fundamental concepts of regression analysis and the least squares method. Let's summarize the key points:\n",
    "\n",
    "1. Regression is a statistical method that examines the relationship between a dependent variable and one or more independent variables. It allows us to model the relationship and make predictions based on the values of the independent variables.\n",
    "\n",
    "2. The regression line is a straight line that best fits the data points in a scatterplot. It is characterized by the slope ($\\beta_1$) and the y-intercept ($\\beta_0$). The slope represents the change in the dependent variable for a one-unit increase in the independent variable, while the y-intercept is the value of the dependent variable when the independent variable is zero.\n",
    "\n",
    "3. The least squares method is used to find the best-fitting regression line by minimizing the sum of the squared differences between the observed values and the predicted values. The formulas for calculating the slope and y-intercept using the least squares method are:\n",
    "\n",
    "   $\\beta_1 = \\frac{\\sum_{i=1}^{n} (x_i - \\bar{x})(y_i - \\bar{y})}{\\sum_{i=1}^{n} (x_i - \\bar{x})^2}$\n",
    "\n",
    "   $\\beta_0 = \\bar{y} - \\beta_1 \\bar{x}$\n",
    "\n",
    "4. The least squares regression equation, $\\hat{y} = \\beta_0 + \\beta_1x$, allows us to predict the value of the dependent variable for any given value of the independent variable.\n",
    "\n",
    "5. The linearity assumption states that the relationship between the independent and dependent variables should be linear. This can be checked using scatterplots. Violating the linearity assumption may lead to biased estimates and misleading results.\n",
    "\n",
    "6. The homoscedasticity assumption states that the variability of the residuals should be constant across all levels of the independent variable. Violations of homoscedasticity, known as heteroscedasticity, can be identified by examining a scatterplot of the residuals against the predicted values. Heteroscedasticity can affect the efficiency and reliability of the regression estimates."
   ]
  }
 ],
 "metadata": {
  "kernelspec": {
   "display_name": "py310",
   "language": "python",
   "name": "python3"
  },
  "language_info": {
   "codemirror_mode": {
    "name": "ipython",
    "version": 3
   },
   "file_extension": ".py",
   "mimetype": "text/x-python",
   "name": "python",
   "nbconvert_exporter": "python",
   "pygments_lexer": "ipython3",
   "version": "3.10.12"
  }
 },
 "nbformat": 4,
 "nbformat_minor": 2
}
