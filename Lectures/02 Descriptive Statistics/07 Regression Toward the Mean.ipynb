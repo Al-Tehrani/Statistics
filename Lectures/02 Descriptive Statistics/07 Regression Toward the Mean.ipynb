{
 "cells": [
  {
   "cell_type": "markdown",
   "metadata": {},
   "source": [
    "<img src=\"./images/banner.png\" width=\"800\">"
   ]
  },
  {
   "cell_type": "markdown",
   "metadata": {},
   "source": [
    "# Regression Toward the Mean"
   ]
  },
  {
   "cell_type": "markdown",
   "metadata": {},
   "source": [
    "In the previous lectures, we explored the concepts of regression and learned how to evaluate the accuracy of regression predictions. We discussed the least squares method for finding the best-fitting regression line and the importance of the standard error of estimate and the squared correlation coefficient in assessing the precision of our predictions.\n"
   ]
  },
  {
   "cell_type": "markdown",
   "metadata": {},
   "source": [
    "In this lecture, we will dive into a fascinating phenomenon known as **regression toward the mean**. This concept has important implications for understanding and interpreting changes in data over time, particularly when dealing with **extreme values** or **repeated measurements**.\n"
   ]
  },
  {
   "cell_type": "markdown",
   "metadata": {},
   "source": [
    "Regression toward the mean is a statistical phenomenon that occurs when extreme values or measurements tend to be followed by values that are closer to the average or mean of the entire dataset. This phenomenon can often lead to misinterpretations of data and incorrect conclusions if not properly understood and accounted for.\n"
   ]
  },
  {
   "cell_type": "markdown",
   "metadata": {},
   "source": [
    "Throughout this lecture, we will:\n",
    "\n",
    "1. Define and explain the concept of regression toward the mean\n",
    "2. Explore examples of regression toward the mean in various fields, such as education, sports, and healthcare\n",
    "3. Discuss the implications of regression toward the mean in research and decision-making\n",
    "4. Learn how to identify and avoid common pitfalls associated with regression toward the mean\n"
   ]
  },
  {
   "cell_type": "markdown",
   "metadata": {},
   "source": [
    "By the end of this lecture, you will have a solid understanding of regression toward the mean and its significance in data analysis and interpretation. This knowledge will help you make more informed decisions and avoid drawing incorrect conclusions based on extreme values or measurements.\n"
   ]
  },
  {
   "cell_type": "markdown",
   "metadata": {},
   "source": [
    "Let's begin by diving deeper into the definition and explanation of regression toward the mean."
   ]
  },
  {
   "cell_type": "markdown",
   "metadata": {},
   "source": [
    "**Table of contents**<a id='toc0_'></a>    \n",
    "- [Definition and Explanation of Regression Toward the Mean](#toc1_)    \n",
    "  - [(Optional) Mathematical Explanation of the Phenomenon](#toc1_1_)    \n",
    "- [Examples of Regression Toward the Mean](#toc2_)    \n",
    "  - [Education: Student Performance and Test Scores](#toc2_1_)    \n",
    "  - [Sports: Athlete Performance and Team Rankings](#toc2_2_)    \n",
    "  - [Healthcare: Blood Pressure Measurements and Treatment Effects](#toc2_3_)    \n",
    "  - [Other Real-World Examples](#toc2_4_)    \n",
    "- [Implications of Regression Toward the Mean](#toc3_)    \n",
    "- [Conclusion and Key Takeaways](#toc4_)    \n",
    "\n",
    "<!-- vscode-jupyter-toc-config\n",
    "\tnumbering=false\n",
    "\tanchor=true\n",
    "\tflat=false\n",
    "\tminLevel=2\n",
    "\tmaxLevel=6\n",
    "\t/vscode-jupyter-toc-config -->\n",
    "<!-- THIS CELL WILL BE REPLACED ON TOC UPDATE. DO NOT WRITE YOUR TEXT IN THIS CELL -->"
   ]
  },
  {
   "cell_type": "markdown",
   "metadata": {},
   "source": [
    "## <a id='toc1_'></a>[Definition and Explanation of Regression Toward the Mean](#toc0_)"
   ]
  },
  {
   "cell_type": "markdown",
   "metadata": {},
   "source": [
    "Regression toward the mean is a statistical phenomenon that occurs when extreme values or measurements in a dataset tend to be followed by values that are closer to the mean of the entire dataset. In other words, if an initial observation or measurement is extremely high or low, the subsequent observation or measurement is more likely to be closer to the average."
   ]
  },
  {
   "cell_type": "markdown",
   "metadata": {},
   "source": [
    "This phenomenon is not due to any specific cause or intervention but rather a result of natural variability and the inherent tendency of data to cluster around the mean. It is important to note that regression toward the mean occurs in both directions - extremely high values tend to be followed by lower values, while extremely low values tend to be followed by higher values.\n"
   ]
  },
  {
   "cell_type": "markdown",
   "metadata": {},
   "source": [
    "This phenomenon was first observed by Sir Francis Galton, a renowned statistician who made significant contributions to the field, including the introduction of concepts such as correlation, standard deviation, and percentiles. Galton devoted much of his life to studying variation in human populations, particularly in the context of heredity."
   ]
  },
  {
   "cell_type": "markdown",
   "metadata": {},
   "source": [
    "In his investigation of the relationship between the heights of parents and their children, Galton plotted the heights of 930 adult children against the mean height of their parents. He discovered that the data did not follow the expected trend line, but instead, the children's heights tended to be closer to the average height than their parents' heights. This finding, known as regression to the mean, suggests that extreme observations are likely to be followed by less extreme ones closer to the true mean.\n"
   ]
  },
  {
   "cell_type": "markdown",
   "metadata": {},
   "source": [
    "<img src=\"./images/regression-to-the-mean-height.png\" width=\"400\">"
   ]
  },
  {
   "cell_type": "markdown",
   "metadata": {},
   "source": [
    "For example, if parent's height is 6 feet, the child's height is likely to be closer to the average height of the population (around 5'9\") rather than 6 feet. On the other hand, if the parent's height is 5 feet, the child's height is also likely to be closer to the average height rather than 5 feet. This phenomenon is known as regression toward the mean."
   ]
  },
  {
   "cell_type": "markdown",
   "metadata": {},
   "source": [
    "<img src=\"./images/regression-toward-the-mean.png\" width=\"800\">"
   ]
  },
  {
   "cell_type": "markdown",
   "metadata": {},
   "source": [
    "Galton's work highlights the importance of considering regression to the mean in statistical analyses, as failing to do so can lead to misleading conclusions. For example, when estimating the impact of speed cameras on reducing fatal road accidents, initial analyses suggested that they saved an average of 100 lives per year. However, further analysis that accounted for regression to the mean found that 50% of the decline in accidents would have occurred regardless of the installation of speed cameras.\n"
   ]
  },
  {
   "cell_type": "markdown",
   "metadata": {},
   "source": [
    "Regression to the mean remains a crucial statistical phenomenon that should not be neglected in data analysis. It serves as a reminder that extreme observations are often followed by less extreme ones, and that careful consideration must be given to the interpretation of data to avoid drawing incorrect conclusions."
   ]
  },
  {
   "cell_type": "markdown",
   "metadata": {},
   "source": [
    "Understanding the concept of regression toward the mean is crucial for interpreting changes in data over time and avoiding misinterpretations or incorrect conclusions based on extreme values or measurements. In the next section, we will explore real-world examples of regression toward the mean in various fields.\n"
   ]
  },
  {
   "cell_type": "markdown",
   "metadata": {},
   "source": [
    "### <a id='toc1_1_'></a>[(Optional) Mathematical Explanation of the Phenomenon](#toc0_)\n"
   ]
  },
  {
   "cell_type": "markdown",
   "metadata": {},
   "source": [
    "To understand the mathematical basis of regression toward the mean, let's consider a dataset with a mean of $\\mu$ and a standard deviation of $\\sigma$. If we select an observation $x_1$ that is far from the mean (either much higher or much lower), the expected value of the next observation $x_2$ can be expressed as:\n",
    "\n",
    "$E(x_2 | x_1) = \\mu + \\rho \\frac{\\sigma_2}{\\sigma_1}(x_1 - \\mu)$\n",
    "\n",
    "where:\n",
    "- $E(x_2 | x_1)$ is the expected value of $x_2$ given the value of $x_1$\n",
    "- $\\rho$ is the correlation coefficient between $x_1$ and $x_2$\n",
    "- $\\sigma_1$ and $\\sigma_2$ are the standard deviations of $x_1$ and $x_2$, respectively\n"
   ]
  },
  {
   "cell_type": "markdown",
   "metadata": {},
   "source": [
    "If the correlation between $x_1$ and $x_2$ is less than 1 (which is usually the case in real-world datasets), the term $\\rho \\frac{\\sigma_2}{\\sigma_1}$ will be less than 1. As a result, the expected value of $x_2$ will be closer to the mean $\\mu$ than $x_1$.\n"
   ]
  },
  {
   "cell_type": "markdown",
   "metadata": {},
   "source": [
    "## <a id='toc2_'></a>[Examples of Regression Toward the Mean](#toc0_)"
   ]
  },
  {
   "cell_type": "markdown",
   "metadata": {},
   "source": [
    "Regression toward the mean can be observed in various fields, including education, sports, healthcare, and many other real-world situations. In this section, we will explore examples of how this phenomenon manifests in different contexts.\n"
   ]
  },
  {
   "cell_type": "markdown",
   "metadata": {},
   "source": [
    "### <a id='toc2_1_'></a>[Education: Student Performance and Test Scores](#toc0_)\n"
   ]
  },
  {
   "cell_type": "markdown",
   "metadata": {},
   "source": [
    "In educational settings, regression toward the mean can be observed when examining student performance and test scores over time. Consider a scenario where students take two similar tests:\n",
    "\n",
    "- Students who perform exceptionally well on the first test (above the mean) are more likely to have lower scores on the second test, closer to the mean.\n",
    "- Students who perform poorly on the first test (below the mean) are more likely to have higher scores on the second test, closer to the mean.\n",
    "\n",
    "This phenomenon can lead to misinterpretations, such as attributing improvement in low-performing students to an intervention or teaching method, when in reality, the improvement may be due to regression toward the mean.\n"
   ]
  },
  {
   "cell_type": "markdown",
   "metadata": {},
   "source": [
    "### <a id='toc2_2_'></a>[Sports: Athlete Performance and Team Rankings](#toc0_)\n"
   ]
  },
  {
   "cell_type": "markdown",
   "metadata": {},
   "source": [
    "Regression toward the mean is common in sports, particularly when considering athlete performance and team rankings over multiple seasons or competitions.\n",
    "\n",
    "- An athlete who performs exceptionally well in one season (above their average) is more likely to have a performance closer to their average in the following season.\n",
    "- A team that ranks very high or very low in one season is more likely to have a ranking closer to the middle of the pack in the next season.\n",
    "\n",
    "This phenomenon can lead to overestimating the impact of training or coaching changes on athlete or team performance, when the changes observed may be due to regression toward the mean.\n"
   ]
  },
  {
   "cell_type": "markdown",
   "metadata": {},
   "source": [
    "### <a id='toc2_3_'></a>[Healthcare: Blood Pressure Measurements and Treatment Effects](#toc0_)\n"
   ]
  },
  {
   "cell_type": "markdown",
   "metadata": {},
   "source": [
    "In healthcare, regression toward the mean can be observed in various physiological measurements, such as blood pressure readings.\n",
    "\n",
    "- Patients with extremely high blood pressure readings in one visit are more likely to have lower readings in subsequent visits, closer to their average blood pressure.\n",
    "- Patients with extremely low blood pressure readings in one visit are more likely to have higher readings in subsequent visits, closer to their average blood pressure.\n",
    "\n",
    "This phenomenon can lead to overestimating the effectiveness of treatments or interventions, as the observed changes in blood pressure may be partially due to regression toward the mean rather than the treatment itself.\n"
   ]
  },
  {
   "cell_type": "markdown",
   "metadata": {},
   "source": [
    "### <a id='toc2_4_'></a>[Other Real-World Examples](#toc0_)\n"
   ]
  },
  {
   "cell_type": "markdown",
   "metadata": {},
   "source": [
    "Regression toward the mean can be observed in numerous other real-world situations, such as:\n",
    "\n",
    "- **Stock market performance**: Companies with extremely high or low stock returns in one period are more likely to have returns closer to the market average in the following period.\n",
    "- **Customer satisfaction surveys**: Customers who provide extremely positive or negative feedback in one survey are more likely to provide feedback closer to the average in subsequent surveys.\n",
    "- **Employee performance evaluations**: Employees with exceptionally high or low performance ratings in one evaluation period are more likely to have ratings closer to the average in the next evaluation period.\n"
   ]
  },
  {
   "cell_type": "markdown",
   "metadata": {},
   "source": [
    "In all these examples, it is essential to recognize the potential influence of regression toward the mean when interpreting changes or differences in data over time. Failing to account for this phenomenon can lead to incorrect conclusions and misguided decision-making.\n"
   ]
  },
  {
   "cell_type": "markdown",
   "metadata": {},
   "source": [
    "In the next section, we will discuss the implications of regression toward the mean and how it can lead to misinterpretations and incorrect conclusions if not properly understood and accounted for."
   ]
  },
  {
   "cell_type": "markdown",
   "metadata": {},
   "source": [
    "## <a id='toc3_'></a>[Implications of Regression Toward the Mean](#toc0_)"
   ]
  },
  {
   "cell_type": "markdown",
   "metadata": {},
   "source": [
    "Regression toward the mean can have significant implications for data analysis, interpretation, and decision-making. If not properly understood and accounted for, this phenomenon can lead to various issues:\n",
    "\n",
    "- **Misinterpretation of data and incorrect conclusions**\n",
    "  - Failing to consider regression toward the mean when observing changes or differences in data over time can lead to misinterpretations and incorrect conclusions.\n",
    "  - Example: Attributing improvement in low-performing students solely to an intervention, when some improvement may be due to regression toward the mean.\n",
    "\n",
    "- **Overestimating the effectiveness of interventions or treatments**\n",
    "  - Interventions targeted at individuals with extreme initial values may appear more effective than they actually are, due to regression toward the mean.\n",
    "  - To avoid this issue, use appropriate research designs (e.g., randomized controlled trials) and compare outcomes of the intervention group to a control group.\n",
    "\n",
    "- **Underestimating the impact of extreme values or measurements**\n",
    "  - Extreme values may be dismissed as outliers or attributed to random chance, when they may represent genuine and meaningful deviations from the norm.\n",
    "  - Carefully examine extreme values and consider their potential causes and implications, as they may provide valuable insights or opportunities.\n"
   ]
  },
  {
   "cell_type": "markdown",
   "metadata": {},
   "source": [
    "Understanding the implications of regression toward the mean is crucial for accurate data analysis, interpretation, and decision-making. By recognizing the potential pitfalls, researchers and decision-makers can take steps to account for this phenomenon and draw more reliable conclusions from their data.\n"
   ]
  },
  {
   "cell_type": "markdown",
   "metadata": {},
   "source": [
    "## <a id='toc4_'></a>[Conclusion and Key Takeaways](#toc0_)"
   ]
  },
  {
   "cell_type": "markdown",
   "metadata": {},
   "source": [
    "In this lecture, we have explored the concept of regression toward the mean, its implications, and strategies for dealing with this phenomenon in various contexts. Let's recap the main points covered:\n",
    "\n",
    "- Regression toward the mean is a statistical phenomenon where extreme values or measurements tend to be followed by values closer to the mean of the entire dataset.\n",
    "- This phenomenon can be observed in various fields, such as education, sports, healthcare, and other real-world situations.\n",
    "- Failing to account for regression toward the mean can lead to misinterpretations, incorrect conclusions, and flawed decision-making.\n",
    "- The implications of regression toward the mean include overestimating the effectiveness of interventions or treatments, underestimating the impact of extreme values, and misinterpreting data.\n",
    "- To identify and avoid pitfalls associated with regression toward the mean, researchers and decision-makers should use control groups or comparison data, consider the role of chance and random variation, and employ appropriate statistical methods.\n"
   ]
  },
  {
   "cell_type": "markdown",
   "metadata": {},
   "source": [
    "Understanding regression toward the mean is crucial for accurate data analysis and interpretation. By recognizing this phenomenon and its potential implications, researchers and decision-makers can draw more reliable conclusions and make better-informed decisions based on the available evidence.\n"
   ]
  },
  {
   "cell_type": "markdown",
   "metadata": {},
   "source": [
    "In practice, this understanding can lead to:\n",
    "- More accurate evaluations of interventions and treatments\n",
    "- Better allocation of resources based on genuine effects rather than statistical artifacts\n",
    "- More effective identification of meaningful deviations from the norm\n",
    "- Improved decision-making in various domains, from education to healthcare to business\n"
   ]
  },
  {
   "cell_type": "markdown",
   "metadata": {},
   "source": [
    "As you continue your journey in data analysis and interpretation, keep the concept of regression toward the mean in mind. Be cautious when interpreting changes or differences in data over time, and always consider alternative explanations for observed patterns.\n"
   ]
  },
  {
   "cell_type": "markdown",
   "metadata": {},
   "source": [
    "Encourage yourself to apply this knowledge in your future research and decision-making. By doing so, you will be better equipped to navigate the complexities of data analysis and make more informed and reliable conclusions.\n"
   ]
  },
  {
   "cell_type": "markdown",
   "metadata": {},
   "source": [
    "Remember, understanding regression toward the mean is not just a theoretical exercise – it has real-world implications that can impact the effectiveness of interventions, the allocation of resources, and the overall quality of decision-making. By mastering this concept and applying it in practice, you can contribute to more accurate and meaningful insights in your field of interest."
   ]
  }
 ],
 "metadata": {
  "kernelspec": {
   "display_name": "py310",
   "language": "python",
   "name": "python3"
  },
  "language_info": {
   "codemirror_mode": {
    "name": "ipython",
    "version": 3
   },
   "file_extension": ".py",
   "mimetype": "text/x-python",
   "name": "python",
   "nbconvert_exporter": "python",
   "pygments_lexer": "ipython3",
   "version": "3.10.12"
  }
 },
 "nbformat": 4,
 "nbformat_minor": 2
}
