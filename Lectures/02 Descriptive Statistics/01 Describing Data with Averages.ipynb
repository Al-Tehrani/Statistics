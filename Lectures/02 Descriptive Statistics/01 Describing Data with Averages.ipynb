{
 "cells": [
  {
   "cell_type": "markdown",
   "metadata": {},
   "source": [
    "<img src=\"./images/banner.png\" width=\"800\">"
   ]
  },
  {
   "cell_type": "markdown",
   "metadata": {},
   "source": [
    "# Describing Data with Averages"
   ]
  },
  {
   "cell_type": "markdown",
   "metadata": {},
   "source": [
    "In this section, we will explore the concept of central tendency and its importance in understanding and summarizing data. We will also introduce the three main measures of central tendency: mode, median, and mean.\n"
   ]
  },
  {
   "cell_type": "markdown",
   "metadata": {},
   "source": [
    "**Central tendency** refers to the concept of identifying a single value that represents the \"center\" or \"middle\" of a dataset. It provides a way to describe the typical or central value around which the data points tend to cluster.\n"
   ]
  },
  {
   "cell_type": "markdown",
   "metadata": {},
   "source": [
    "Measuring central tendency is crucial for several reasons:\n",
    "\n",
    "1. **Summarizing data**: Central tendency measures allow us to summarize a large dataset with a single representative value, making it easier to understand and communicate the overall characteristics of the data.\n",
    "\n",
    "2. **Comparing datasets**: By calculating the central tendency of different datasets, we can compare them and determine which dataset has higher or lower values on average.\n",
    "\n",
    "3. **Identifying patterns**: Central tendency measures help us identify patterns or trends in the data, such as whether the data points are consistently high, low, or clustered around a specific value.\n",
    "\n",
    "4. **Making decisions**: In many fields, such as business, healthcare, and social sciences, central tendency measures are used to make informed decisions based on the typical or average values of the data.\n"
   ]
  },
  {
   "cell_type": "markdown",
   "metadata": {},
   "source": [
    "There are three primary measures of central tendency: mode, median, and mean. Each measure has its own characteristics and is suitable for different types of data and situations.\n",
    "\n",
    "1. **Mode**: The mode is the value that appears most frequently in a dataset. It is particularly useful for categorical or discrete data.\n",
    "\n",
    "2. **Median**: The median is the middle value when the data points are arranged in ascending or descending order. It is less sensitive to extreme values (outliers) compared to the mean.\n",
    "\n",
    "3. **Mean**: The mean, also known as the average, is calculated by summing up all the values in a dataset and dividing by the total number of values. It is the most commonly used measure of central tendency for continuous data.\n"
   ]
  },
  {
   "cell_type": "markdown",
   "metadata": {},
   "source": [
    "<img src=\"./images/mean-mode-median-summary.png\" width=\"800\">"
   ]
  },
  {
   "cell_type": "markdown",
   "metadata": {},
   "source": [
    "In everyday language, the terms \"average\" and \"mean\" are often used interchangeably. However, in a mathematical context, \"mean\" has a more specific definition, while \"average\" can refer to several measures of central tendency.\n",
    "\n",
    "**Mean:**\n",
    "- The mean is a specific measure of central tendency, calculated by summing up all the values in a dataset and dividing by the number of values.\n",
    "- It is the most commonly used measure when people refer to the \"average.\"\n",
    "- The mean is sensitive to extreme values (outliers) in the dataset, as it takes into account every value.\n",
    "\n",
    "**Average:**\n",
    "- In a general sense, an average is a single value that represents the typical or central value in a set of data.\n",
    "- It can refer to different measures of central tendency, such as the mean, median, or mode, depending on the context.\n",
    "- The term \"average\" is often used informally to describe a typical or representative value.\n",
    "\n",
    "In summary, while \"mean\" refers to a specific mathematical calculation, \"average\" is a more general term that can encompass various measures of central tendency, including the mean. In most cases, when people use the term \"average,\" they are referring to the arithmetic mean."
   ]
  },
  {
   "cell_type": "markdown",
   "metadata": {},
   "source": [
    "In the following sections, we will explore each of these measures in more detail, including their definitions, calculations, and when to use them."
   ]
  },
  {
   "cell_type": "markdown",
   "metadata": {},
   "source": [
    "**Table of contents**<a id='toc0_'></a>    \n",
    "- [Mode](#toc1_)    \n",
    "  - [Procedure for determining the mode](#toc1_1_)    \n",
    "  - [Examples of datasets with one mode, multiple modes, or no mode](#toc1_2_)    \n",
    "  - [Advantages and disadvantages of using the mode](#toc1_3_)    \n",
    "  - [Mode for qualitative data](#toc1_4_)    \n",
    "- [Median](#toc2_)    \n",
    "  - [Procedure for finding the median](#toc2_1_)    \n",
    "  - [Median for qualitative and ranked data](#toc2_2_)    \n",
    "  - [Advantages and disadvantages of using the median](#toc2_3_)    \n",
    "- [Mean](#toc3_)    \n",
    "  - [Sample mean formula](#toc3_1_)    \n",
    "  - [Population mean formula](#toc3_2_)    \n",
    "  - [Mean as the balance point of a distribution](#toc3_3_)    \n",
    "  - [Sensitivity of the mean to extreme scores (outliers)](#toc3_4_)    \n",
    "  - [Advantages and disadvantages of using the mean](#toc3_5_)    \n",
    "- [Comparing Mode, Median, and Mean](#toc4_)    \n",
    "  - [Differences Between Mean and Median in Skewed Distributions](#toc4_1_)    \n",
    "  - [Situations Where each Measure is Most Appropriate](#toc4_2_)    \n",
    "- [Exercise: Measures of Central Tendency](#toc5_)    \n",
    "  - [Solution](#toc5_1_)    \n",
    "\n",
    "<!-- vscode-jupyter-toc-config\n",
    "\tnumbering=false\n",
    "\tanchor=true\n",
    "\tflat=false\n",
    "\tminLevel=2\n",
    "\tmaxLevel=6\n",
    "\t/vscode-jupyter-toc-config -->\n",
    "<!-- THIS CELL WILL BE REPLACED ON TOC UPDATE. DO NOT WRITE YOUR TEXT IN THIS CELL -->"
   ]
  },
  {
   "cell_type": "markdown",
   "metadata": {},
   "source": [
    "## <a id='toc1_'></a>[Mode](#toc0_)"
   ]
  },
  {
   "cell_type": "markdown",
   "metadata": {},
   "source": [
    "The mode is the value that appears most frequently in a dataset. In other words, it is the value with the highest frequency count.\n"
   ]
  },
  {
   "cell_type": "markdown",
   "metadata": {},
   "source": [
    "### <a id='toc1_1_'></a>[Procedure for determining the mode](#toc0_)"
   ]
  },
  {
   "cell_type": "markdown",
   "metadata": {},
   "source": [
    "To find the mode of a dataset, follow these steps:\n",
    "1. *Organize the data*: Arrange the values in the dataset in a systematic order (e.g., from least to greatest or by categories).\n",
    "2. *Count the frequency*: Count how many times each value appears in the dataset.\n",
    "3. *Identify the value with the highest frequency*: The value or values with the highest frequency count are the mode(s) of the dataset.\n"
   ]
  },
  {
   "cell_type": "markdown",
   "metadata": {},
   "source": [
    "**Example 1**: Find the mode of the following dataset: 5, 2, 8, 5, 1, 5, 3, 2, 5.\n",
    "\n",
    "*Step 1*: Organize the data in ascending order: 1, 2, 2, 3, 5, 5, 5, 5, 8.\n",
    "*Step 2*: Count the frequency of each value:\n",
    "- 1 appears once\n",
    "- 2 appears twice\n",
    "- 3 appears once\n",
    "- 5 appears four times\n",
    "- 8 appears once\n",
    "*Step 3*: Identify the value with the highest frequency: The mode is 5, as it appears most frequently (four times).\n"
   ]
  },
  {
   "cell_type": "markdown",
   "metadata": {},
   "source": [
    "**Example 2**: Find the mode of the following dataset: apple, banana, orange, grape, apple, banana, orange, grape, kiwi.\n",
    "\n",
    "*Step 1*: Organize the data by categories: apple, apple, banana, banana, grape, grape, kiwi, orange, orange.\n",
    "*Step 2*: Count the frequency of each value:\n",
    "- apple appears twice\n",
    "- banana appears twice\n",
    "- grape appears twice\n",
    "- kiwi appears once\n",
    "- orange appears twice\n",
    "*Step 3*: Identify the value with the highest frequency: The dataset has four modes: apple, banana, grape, and orange, as they all appear twice.\n"
   ]
  },
  {
   "cell_type": "markdown",
   "metadata": {},
   "source": [
    "### <a id='toc1_2_'></a>[Examples of datasets with one mode, multiple modes, or no mode](#toc0_)"
   ]
  },
  {
   "cell_type": "markdown",
   "metadata": {},
   "source": [
    "Datasets can have one mode (unimodal), multiple modes (bimodal or multimodal), or no mode at all.\n",
    "\n",
    "1. *Unimodal dataset*: Consider the following dataset of student grades: 75, 80, 85, 90, 90, 90, 95. In this dataset, the mode is 90 because it appears most frequently (three times).\n",
    "\n",
    "2. *Bimodal dataset*: Consider the following dataset of car colors: red, blue, green, blue, red, yellow, red, blue. In this dataset, there are two modes: red and blue, as they both appear three times.\n",
    "\n",
    "3. *Multimodal dataset*: Consider the following dataset of favorite fruits: apple, banana, orange, grape, apple, banana, orange, grape, kiwi. In this dataset, there are four modes: apple, banana, orange, and grape, as they all appear twice.\n",
    "\n",
    "4. *Dataset with no mode*: Consider the following dataset of house numbers: 1, 2, 3, 4, 5, 6, 7, 8, 9. In this dataset, there is no mode because each value appears only once.\n"
   ]
  },
  {
   "cell_type": "markdown",
   "metadata": {},
   "source": [
    "### <a id='toc1_3_'></a>[Advantages and disadvantages of using the mode](#toc0_)"
   ]
  },
  {
   "cell_type": "markdown",
   "metadata": {},
   "source": [
    "**Advantages:**\n",
    "- The mode is easy to understand and calculate.\n",
    "- It is useful for categorical or discrete data.\n",
    "- The mode is not affected by extreme values (outliers).\n",
    "\n",
    "**Disadvantages:**\n",
    "- The mode may not exist or may not be unique (i.e., there can be no mode or multiple modes).\n",
    "- It does not take into account the magnitude of the values, only their frequencies.\n",
    "- The mode may not be a good representative of the dataset if the frequencies are evenly distributed.\n"
   ]
  },
  {
   "cell_type": "markdown",
   "metadata": {},
   "source": [
    "### <a id='toc1_4_'></a>[Mode for qualitative data](#toc0_)"
   ]
  },
  {
   "cell_type": "markdown",
   "metadata": {},
   "source": [
    "The mode is particularly useful for qualitative data, such as categories or labels. For example, in a survey asking participants about their favorite color, the mode would be the color that is chosen most often. In this case, the mode provides a meaningful summary of the most popular or typical category in the dataset."
   ]
  },
  {
   "cell_type": "markdown",
   "metadata": {},
   "source": [
    "## <a id='toc2_'></a>[Median](#toc0_)"
   ]
  },
  {
   "cell_type": "markdown",
   "metadata": {},
   "source": [
    "The median is the middle value in a dataset when the values are arranged in ascending or descending order. If the dataset has an odd number of values, the median is the middle value. If the dataset has an even number of values, the median is the average of the two middle values.\n"
   ]
  },
  {
   "cell_type": "markdown",
   "metadata": {},
   "source": [
    "### <a id='toc2_1_'></a>[Procedure for finding the median](#toc0_)"
   ]
  },
  {
   "cell_type": "markdown",
   "metadata": {},
   "source": [
    "The procedure for finding the median depends on whether the total number of values in the dataset is odd or even.\n",
    "\n",
    "When the total number of scores is odd:\n",
    "1. Arrange the values in ascending or descending order.\n",
    "2. Identify the middle position using the formula $\\frac{n+1}{2}$, where $n$ is the total number of values.\n",
    "3. The median is the value at the middle position.\n",
    "\n",
    "**Example**: Find the median of the following dataset: 12, 7, 3, 9, 15.\n",
    "\n",
    "*Step 1*: Arrange the values in ascending order: 3, 7, 9, 12, 15.\n",
    "*Step 2*: Identify the middle position: $\\frac{5+1}{2} = 3$. The middle position is 3.\n",
    "*Step 3*: The median is the value at the 3rd position, which is 9.\n"
   ]
  },
  {
   "cell_type": "markdown",
   "metadata": {},
   "source": [
    "When the total number of scores is even:\n",
    "1. Arrange the values in ascending or descending order.\n",
    "2. Identify the two middle positions using the formula $\\frac{n}{2}$ and $\\frac{n}{2}+1$, where $n$ is the total number of values.\n",
    "3. Calculate the average of the values at the two middle positions to find the median.\n",
    "\n",
    "**Example**: Find the median of the following dataset: 4, 7, 2, 9, 3, 8.\n",
    "\n",
    "*Step 1*: Arrange the values in ascending order: 2, 3, 4, 7, 8, 9.\n",
    "*Step 2*: Identify the two middle positions: $\\frac{6}{2} = 3$ and $\\frac{6}{2}+1 = 4$. The two middle positions are 3 and 4.\n",
    "*Step 3*: Calculate the average of the values at the 3rd and 4th positions: $\\frac{4+7}{2} = 5.5$. The median is 5.5.\n"
   ]
  },
  {
   "cell_type": "markdown",
   "metadata": {},
   "source": [
    "### <a id='toc2_2_'></a>[Median for qualitative and ranked data](#toc0_)"
   ]
  },
  {
   "cell_type": "markdown",
   "metadata": {},
   "source": [
    "When dealing with qualitative or ranked data, the median can be found by assigning ranks to the categories or values and then applying the same procedure as for quantitative data.\n",
    "\n",
    "**Example**: Find the median of the following dataset of ranked preferences: A, C, B, A, D, B, A.\n",
    "\n",
    "*Step 1*: Assign ranks to the categories: A = 1, B = 2, C = 3, D = 4.\n",
    "*Step 2*: Arrange the ranks in ascending order: 1, 1, 1, 2, 2, 3, 4.\n",
    "*Step 3*: Identify the middle position: $\\frac{7+1}{2} = 4$. The middle position is 4.\n",
    "*Step 4*: The median is the value at the 4th position, which is 2 (corresponding to category B).\n"
   ]
  },
  {
   "cell_type": "markdown",
   "metadata": {},
   "source": [
    "### <a id='toc2_3_'></a>[Advantages and disadvantages of using the median](#toc0_)"
   ]
  },
  {
   "cell_type": "markdown",
   "metadata": {},
   "source": [
    "**Advantages:**\n",
    "- The median is less affected by extreme values (outliers) than the mean.\n",
    "- It can be used with ordinal data (ranked data) and interval/ratio data.\n",
    "- The median is unique and always exists for any dataset.\n",
    "\n",
    "**Disadvantages:**\n",
    "- The median does not take into account the actual values of the data points, only their positions.\n",
    "- It may not be a good representative of the dataset if the data is highly skewed or has a large range.\n",
    "- Calculating the median for large datasets can be time-consuming if the data is not already sorted."
   ]
  },
  {
   "cell_type": "markdown",
   "metadata": {},
   "source": [
    "## <a id='toc3_'></a>[Mean](#toc0_)"
   ]
  },
  {
   "cell_type": "markdown",
   "metadata": {},
   "source": [
    "The mean, also known as the arithmetic average, is the sum of all values in a dataset divided by the total number of values. It represents the central tendency of the data and is the most commonly used measure of central tendency.\n"
   ]
  },
  {
   "cell_type": "markdown",
   "metadata": {},
   "source": [
    "The formula for calculating the mean depends on whether the data is from a sample or a population.\n"
   ]
  },
  {
   "cell_type": "markdown",
   "metadata": {},
   "source": [
    "### <a id='toc3_1_'></a>[Sample mean formula](#toc0_)"
   ]
  },
  {
   "cell_type": "markdown",
   "metadata": {},
   "source": [
    "For a sample, the mean is denoted by $\\bar{x}$ (read as \"x-bar\") and is calculated using the following formula:\n",
    "\n",
    "$\\bar{x} = \\frac{\\sum_{i=1}^{n} x_i}{n}$\n",
    "\n",
    "where $x_i$ represents each individual value in the dataset, $n$ is the total number of values in the sample, and $\\sum$ (sigma) denotes the sum of all values.\n"
   ]
  },
  {
   "cell_type": "markdown",
   "metadata": {},
   "source": [
    "### <a id='toc3_2_'></a>[Population mean formula](#toc0_)"
   ]
  },
  {
   "cell_type": "markdown",
   "metadata": {},
   "source": [
    "For a population, the mean is denoted by $\\mu$ (read as \"mu\") and is calculated using the following formula:\n",
    "\n",
    "$\\mu = \\frac{\\sum_{i=1}^{N} x_i}{N}$\n",
    "\n",
    "where $x_i$ represents each individual value in the dataset, $N$ is the total number of values in the population, and $\\sum$ (sigma) denotes the sum of all values.\n"
   ]
  },
  {
   "cell_type": "markdown",
   "metadata": {},
   "source": [
    "**Example**: Calculate the mean of the following dataset: 4, 7, 2, 9, 3, 8.\n",
    "\n",
    "*Step 1*: Add up all the values in the dataset: 4 + 7 + 2 + 9 + 3 + 8 = 33.\n",
    "*Step 2*: Divide the sum by the total number of values: $\\frac{33}{6} = 5.5$.\n",
    "*Step 3*: The mean of the dataset is 5.5.\n"
   ]
  },
  {
   "cell_type": "markdown",
   "metadata": {},
   "source": [
    "### <a id='toc3_3_'></a>[Mean as the balance point of a distribution](#toc0_)"
   ]
  },
  {
   "cell_type": "markdown",
   "metadata": {},
   "source": [
    "The mean can be thought of as the balance point of a distribution. If you were to place the values of the dataset on a number line, the mean would be the point at which the line would balance, with the sum of the distances from the mean to each value on one side equal to the sum of the distances from the mean to each value on the other side.\n"
   ]
  },
  {
   "cell_type": "markdown",
   "metadata": {},
   "source": [
    "### <a id='toc3_4_'></a>[Sensitivity of the mean to extreme scores (outliers)](#toc0_)"
   ]
  },
  {
   "cell_type": "markdown",
   "metadata": {},
   "source": [
    "One important characteristic of the mean is its sensitivity to extreme values or outliers. Because the mean takes into account the actual values of each data point, a single extremely high or low value can significantly influence the mean, pulling it towards the extreme value.\n",
    "\n",
    "**Example**: Consider the following two datasets:\n",
    "- Dataset A: 4, 7, 2, 9, 3, 8\n",
    "- Dataset B: 4, 7, 2, 9, 3, 50\n"
   ]
  },
  {
   "cell_type": "markdown",
   "metadata": {},
   "source": [
    "The mean of Dataset A is 5.5, while the mean of Dataset B is 12.5. The single extreme value of 50 in Dataset B pulls the mean upward, making it less representative of the majority of the data.\n"
   ]
  },
  {
   "cell_type": "markdown",
   "metadata": {},
   "source": [
    "### <a id='toc3_5_'></a>[Advantages and disadvantages of using the mean](#toc0_)"
   ]
  },
  {
   "cell_type": "markdown",
   "metadata": {},
   "source": [
    "**Advantages:**\n",
    "- The mean takes into account the actual values of each data point, providing a more precise measure of central tendency.\n",
    "- It is useful for interval/ratio data and can be used in further statistical analyses.\n",
    "- The mean is sensitive to changes in any value within the dataset.\n",
    "\n",
    "**Disadvantages:**\n",
    "- The mean is strongly influenced by extreme values (outliers), which can make it less representative of the dataset.\n",
    "- It may not be an appropriate measure for highly skewed distributions or datasets with a large range.\n",
    "- The mean cannot be calculated for categorical or ordinal data."
   ]
  },
  {
   "cell_type": "markdown",
   "metadata": {},
   "source": [
    "## <a id='toc4_'></a>[Comparing Mode, Median, and Mean](#toc0_)"
   ]
  },
  {
   "cell_type": "markdown",
   "metadata": {},
   "source": [
    "The mode, median, and mean are all measures of central tendency, but they each have unique properties and are appropriate for different types of data and distributions.\n",
    "\n",
    "- *Mode*: The mode is the most frequently occurring value in a dataset. It is the only measure of central tendency that can be used with nominal data. However, it may not exist or may not be unique for some datasets.\n",
    "\n",
    "- *Median*: The median is the middle value when the dataset is ordered. It is less affected by outliers than the mean and can be used with ordinal data. However, it does not take into account the actual values of the data points.\n",
    "\n",
    "- *Mean*: The mean is the sum of all values divided by the total number of values. It is the most commonly used measure of central tendency and takes into account the actual values of each data point. However, it is sensitive to outliers and can only be used with interval or ratio data.\n"
   ]
  },
  {
   "cell_type": "markdown",
   "metadata": {},
   "source": [
    "### <a id='toc4_1_'></a>[Differences Between Mean and Median in Skewed Distributions](#toc0_)"
   ]
  },
  {
   "cell_type": "markdown",
   "metadata": {},
   "source": [
    "<img src=\"./images/skewed-dist.png\" width=\"600\">"
   ]
  },
  {
   "cell_type": "markdown",
   "metadata": {
    "vscode": {
     "languageId": "plaintext"
    }
   },
   "source": [
    "A skewed distribution is a distribution that is asymmetrical, with the tail of the distribution extending to one side. In a skewed distribution, the mean and median can differ significantly, providing insights into the nature of the data.\n",
    "\n",
    "- *Positively skewed distributions*: In a positively skewed distribution, the tail of the distribution extends to the right, with a few high-value outliers. The bulk of the data is concentrated on the left side of the distribution. In this case, the mean will be greater than the median, as the outliers pull the mean towards the right.\n",
    "\n",
    "**Example**: Consider the following dataset of incomes (in thousands): 20, 25, 30, 35, 40, 50, 100. This dataset is positively skewed, with a long tail extending to the right. The mean income is $42.86, while the median income is $35. The high-value outlier (100) pulls the mean higher than the median.\n",
    "\n",
    "- *Negatively skewed distributions*: In a negatively skewed distribution, the tail of the distribution extends to the left, with a few low-value outliers. The bulk of the data is concentrated on the right side of the distribution. In this case, the mean will be less than the median, as the outliers pull the mean towards the left.\n",
    "\n",
    "**Example**: Consider the following dataset of exam scores: 50, 60, 70, 75, 80, 85, 90, 95, 95. This dataset is negatively skewed, with a long tail extending to the left. The mean score is $77.78, while the median score is $80. The low-value outliers (50 and 60) pull the mean lower than the median."
   ]
  },
  {
   "cell_type": "markdown",
   "metadata": {},
   "source": [
    "In skewed distributions, the mean and median can differ significantly, providing insights into the nature of the data.\n",
    "\n",
    "- *Positively skewed distributions*: In a positively skewed distribution, the tail of the distribution extends to the right, with a few high-value outliers. In this case, the mean will be greater than the median, as the outliers pull the mean towards the right.\n",
    "\n",
    "- *Negatively skewed distributions*: In a negatively skewed distribution, the tail of the distribution extends to the left, with a few low-value outliers. In this case, the mean will be less than the median, as the outliers pull the mean towards the left.\n"
   ]
  },
  {
   "cell_type": "markdown",
   "metadata": {},
   "source": [
    "### <a id='toc4_2_'></a>[Situations Where each Measure is Most Appropriate](#toc0_)"
   ]
  },
  {
   "cell_type": "markdown",
   "metadata": {},
   "source": [
    "- *Mode*: The mode is best used when dealing with nominal or categorical data, or when you want to identify the most common value in a dataset.\n",
    "\n",
    "- *Median*: The median is best used when the data contains outliers, when the data is ordinal, or when the distribution is skewed.\n",
    "\n",
    "- *Mean*: The mean is best used when the data is interval or ratio, when the distribution is symmetrical or normal, and when you want to take into account the actual values of each data point.\n"
   ]
  },
  {
   "cell_type": "markdown",
   "metadata": {},
   "source": [
    "In inferential statistics, the mean plays a crucial role due to its mathematical properties and its relationship to the normal distribution. Many statistical tests and confidence intervals are based on the sample mean, making it a fundamental concept in statistical inference. The Central Limit Theorem, which states that the distribution of sample means approaches a normal distribution as the sample size increases, regardless of the shape of the population distribution, further reinforces the importance of the mean in inferential statistics."
   ]
  },
  {
   "cell_type": "markdown",
   "metadata": {},
   "source": [
    "<img src=\"../images/exercise-banner.gif\" width=\"800\">"
   ]
  },
  {
   "cell_type": "markdown",
   "metadata": {},
   "source": [
    "## <a id='toc5_'></a>[Exercise: Measures of Central Tendency](#toc0_)"
   ]
  },
  {
   "cell_type": "markdown",
   "metadata": {},
   "source": [
    "Consider the following dataset representing the number of hours students spent studying for an exam:\n",
    "\n",
    "2, 5, 6, 3, 4, 5, 7, 2, 6, 4, 3, 5, 4, 6, 5, 8, 4, 3, 5, 4\n",
    "\n",
    "1. Determine the mode of the dataset.\n",
    "2. Calculate the median of the dataset.\n",
    "3. Compute the mean of the dataset.\n",
    "4. Suppose an outlier value of 20 hours is added to the dataset. Recalculate the mode, median, and mean. Which measure of central tendency is least affected by the presence of the outlier?\n"
   ]
  },
  {
   "cell_type": "markdown",
   "metadata": {},
   "source": [
    "### <a id='toc5_1_'></a>[Solution](#toc0_)\n"
   ]
  },
  {
   "cell_type": "markdown",
   "metadata": {},
   "source": [
    "1. To determine the mode, we count the frequency of each value in the dataset:\n",
    "   - 2 appears 2 times\n",
    "   - 3 appears 3 times\n",
    "   - 4 appears 5 times\n",
    "   - 5 appears 5 times\n",
    "   - 6 appears 3 times\n",
    "   - 7 appears 1 time\n",
    "   - 8 appears 1 time\n",
    "\n",
    "   The values 4 and 5 both appear most frequently (5 times each), so the dataset has two modes: 4 and 5.\n",
    "\n",
    "2. To calculate the median, we first arrange the data in ascending order:\n",
    "   2, 2, 3, 3, 3, 4, 4, 4, 4, 4, 5, 5, 5, 5, 5, 6, 6, 6, 7, 8\n",
    "\n",
    "   With an even number of values (20), the median is the average of the two middle values (10th and 11th values):\n",
    "   - Median = (4 + 5) ÷ 2 = 4.5\n",
    "\n",
    "3. To compute the mean, we add up all the values and divide by the number of values:\n",
    "   - Mean = (2 + 5 + 6 + 3 + 4 + 5 + 7 + 2 + 6 + 4 + 3 + 5 + 4 + 6 + 5 + 8 + 4 + 3 + 5 + 4) ÷ 20 = 91 ÷ 20 = 4.55\n",
    "\n",
    "4. Adding the outlier value of 20 to the dataset:\n",
    "   2, 5, 6, 3, 4, 5, 7, 2, 6, 4, 3, 5, 4, 6, 5, 8, 4, 3, 5, 4, 20\n",
    "\n",
    "   - New Mode: The mode remains 4 and 5, as they still appear most frequently (5 times each).\n",
    "   - New Median: 4 (the middle value in the ordered dataset)\n",
    "   - New Mean: (91 + 20) ÷ 21 ≈ 5.29\n",
    "\n",
    "   The mode is least affected by the presence of the outlier, as it only considers the most frequent values. The median is slightly affected, while the mean is most influenced by the outlier."
   ]
  }
 ],
 "metadata": {
  "kernelspec": {
   "display_name": "py310",
   "language": "python",
   "name": "python3"
  },
  "language_info": {
   "codemirror_mode": {
    "name": "ipython",
    "version": 3
   },
   "file_extension": ".py",
   "mimetype": "text/x-python",
   "name": "python",
   "nbconvert_exporter": "python",
   "pygments_lexer": "ipython3",
   "version": "3.10.12"
  }
 },
 "nbformat": 4,
 "nbformat_minor": 2
}
